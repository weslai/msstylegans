{
 "cells": [
  {
   "cell_type": "code",
   "execution_count": 3,
   "metadata": {},
   "outputs": [],
   "source": [
    "import sys\n",
    "import numpy as np\n",
    "import pandas as pd\n",
    "import imageio as iio\n",
    "import matplotlib.pyplot as plt"
   ]
  },
  {
   "cell_type": "code",
   "execution_count": 4,
   "metadata": {},
   "outputs": [],
   "source": [
    "# path = \"/dhc/groups/fglippert/Ukbiobank/imaging/retinal_fundus/multisources/source1/trainset/\"\n",
    "path = \"/dhc/groups/fglippert/MorphoMNIST/mnist_instances/source1/trainset/\"\n",
    "labels = pd.read_json(path + \"dataset.json\")"
   ]
  },
  {
   "cell_type": "code",
   "execution_count": 5,
   "metadata": {},
   "outputs": [
    {
     "data": {
      "text/html": [
       "<div>\n",
       "<style scoped>\n",
       "    .dataframe tbody tr th:only-of-type {\n",
       "        vertical-align: middle;\n",
       "    }\n",
       "\n",
       "    .dataframe tbody tr th {\n",
       "        vertical-align: top;\n",
       "    }\n",
       "\n",
       "    .dataframe thead th {\n",
       "        text-align: right;\n",
       "    }\n",
       "</style>\n",
       "<table border=\"1\" class=\"dataframe\">\n",
       "  <thead>\n",
       "    <tr style=\"text-align: right;\">\n",
       "      <th></th>\n",
       "      <th>labels</th>\n",
       "    </tr>\n",
       "  </thead>\n",
       "  <tbody>\n",
       "    <tr>\n",
       "      <th>0</th>\n",
       "      <td>[00000/img00000000.png, {'thickness': 1.707228...</td>\n",
       "    </tr>\n",
       "    <tr>\n",
       "      <th>1</th>\n",
       "      <td>[00000/img00000001.png, {'thickness': 2.307465...</td>\n",
       "    </tr>\n",
       "    <tr>\n",
       "      <th>2</th>\n",
       "      <td>[00000/img00000002.png, {'thickness': 1.725999...</td>\n",
       "    </tr>\n",
       "    <tr>\n",
       "      <th>3</th>\n",
       "      <td>[00000/img00000003.png, {'thickness': 2.405198...</td>\n",
       "    </tr>\n",
       "    <tr>\n",
       "      <th>4</th>\n",
       "      <td>[00000/img00000004.png, {'thickness': 3.863352...</td>\n",
       "    </tr>\n",
       "  </tbody>\n",
       "</table>\n",
       "</div>"
      ],
      "text/plain": [
       "                                              labels\n",
       "0  [00000/img00000000.png, {'thickness': 1.707228...\n",
       "1  [00000/img00000001.png, {'thickness': 2.307465...\n",
       "2  [00000/img00000002.png, {'thickness': 1.725999...\n",
       "3  [00000/img00000003.png, {'thickness': 2.405198...\n",
       "4  [00000/img00000004.png, {'thickness': 3.863352..."
      ]
     },
     "execution_count": 5,
     "metadata": {},
     "output_type": "execute_result"
    }
   ],
   "source": [
    "labels.head()"
   ]
  },
  {
   "cell_type": "code",
   "execution_count": 6,
   "metadata": {},
   "outputs": [],
   "source": [
    "labels = labels[\"labels\"]"
   ]
  },
  {
   "cell_type": "code",
   "execution_count": 7,
   "metadata": {},
   "outputs": [
    {
     "data": {
      "text/plain": [
       "['00000/img00000000.png',\n",
       " {'thickness': 1.7072281,\n",
       "  'intensity': 94.06379,\n",
       "  'slant': -26.320675,\n",
       "  'label': 2.0}]"
      ]
     },
     "execution_count": 7,
     "metadata": {},
     "output_type": "execute_result"
    }
   ],
   "source": [
    "labels[0]"
   ]
  },
  {
   "cell_type": "code",
   "execution_count": 8,
   "metadata": {},
   "outputs": [
    {
     "data": {
      "text/plain": [
       "0        [00000/img00000000.png, {'thickness': 1.707228...\n",
       "1        [00000/img00000001.png, {'thickness': 2.307465...\n",
       "2        [00000/img00000002.png, {'thickness': 1.725999...\n",
       "3        [00000/img00000003.png, {'thickness': 2.405198...\n",
       "4        [00000/img00000004.png, {'thickness': 3.863352...\n",
       "                               ...                        \n",
       "23995    [00023/img00023995.png, {'thickness': 1.986109...\n",
       "23996    [00023/img00023996.png, {'thickness': 1.764867...\n",
       "23997    [00023/img00023997.png, {'thickness': 2.118285...\n",
       "23998    [00023/img00023998.png, {'thickness': 1.344761...\n",
       "23999    [00023/img00023999.png, {'thickness': 3.231551...\n",
       "Name: labels, Length: 24000, dtype: object"
      ]
     },
     "execution_count": 8,
     "metadata": {},
     "output_type": "execute_result"
    }
   ],
   "source": [
    "labels.view()"
   ]
  },
  {
   "cell_type": "code",
   "execution_count": 9,
   "metadata": {},
   "outputs": [],
   "source": [
    "all_labels = pd.DataFrame(columns=[\"img\"] + list(labels[0][1].keys()))\n",
    "for i in range(10000):\n",
    "    single = []\n",
    "    single.append(labels[2000 + i][0])\n",
    "    for key in labels[2000 + i][1].keys():\n",
    "        single.append(labels[2000 + i][1][key])\n",
    "    all_labels.loc[i] = single"
   ]
  },
  {
   "cell_type": "code",
   "execution_count": 10,
   "metadata": {},
   "outputs": [
    {
     "data": {
      "text/html": [
       "<div>\n",
       "<style scoped>\n",
       "    .dataframe tbody tr th:only-of-type {\n",
       "        vertical-align: middle;\n",
       "    }\n",
       "\n",
       "    .dataframe tbody tr th {\n",
       "        vertical-align: top;\n",
       "    }\n",
       "\n",
       "    .dataframe thead th {\n",
       "        text-align: right;\n",
       "    }\n",
       "</style>\n",
       "<table border=\"1\" class=\"dataframe\">\n",
       "  <thead>\n",
       "    <tr style=\"text-align: right;\">\n",
       "      <th></th>\n",
       "      <th>img</th>\n",
       "      <th>thickness</th>\n",
       "      <th>intensity</th>\n",
       "      <th>slant</th>\n",
       "      <th>label</th>\n",
       "    </tr>\n",
       "  </thead>\n",
       "  <tbody>\n",
       "    <tr>\n",
       "      <th>0</th>\n",
       "      <td>00002/img00002000.png</td>\n",
       "      <td>2.177972</td>\n",
       "      <td>144.26024</td>\n",
       "      <td>-25.562748</td>\n",
       "      <td>1.0</td>\n",
       "    </tr>\n",
       "    <tr>\n",
       "      <th>1</th>\n",
       "      <td>00002/img00002001.png</td>\n",
       "      <td>2.272768</td>\n",
       "      <td>129.36543</td>\n",
       "      <td>8.490932</td>\n",
       "      <td>0.0</td>\n",
       "    </tr>\n",
       "    <tr>\n",
       "      <th>2</th>\n",
       "      <td>00002/img00002002.png</td>\n",
       "      <td>2.584483</td>\n",
       "      <td>93.34946</td>\n",
       "      <td>8.050670</td>\n",
       "      <td>6.0</td>\n",
       "    </tr>\n",
       "    <tr>\n",
       "      <th>3</th>\n",
       "      <td>00002/img00002003.png</td>\n",
       "      <td>2.340639</td>\n",
       "      <td>172.40088</td>\n",
       "      <td>-7.490797</td>\n",
       "      <td>5.0</td>\n",
       "    </tr>\n",
       "    <tr>\n",
       "      <th>4</th>\n",
       "      <td>00002/img00002004.png</td>\n",
       "      <td>2.775840</td>\n",
       "      <td>209.28717</td>\n",
       "      <td>44.870865</td>\n",
       "      <td>5.0</td>\n",
       "    </tr>\n",
       "  </tbody>\n",
       "</table>\n",
       "</div>"
      ],
      "text/plain": [
       "                     img  thickness  intensity      slant  label\n",
       "0  00002/img00002000.png   2.177972  144.26024 -25.562748    1.0\n",
       "1  00002/img00002001.png   2.272768  129.36543   8.490932    0.0\n",
       "2  00002/img00002002.png   2.584483   93.34946   8.050670    6.0\n",
       "3  00002/img00002003.png   2.340639  172.40088  -7.490797    5.0\n",
       "4  00002/img00002004.png   2.775840  209.28717  44.870865    5.0"
      ]
     },
     "execution_count": 10,
     "metadata": {},
     "output_type": "execute_result"
    }
   ],
   "source": [
    "all_labels.head()"
   ]
  },
  {
   "cell_type": "code",
   "execution_count": 30,
   "metadata": {},
   "outputs": [],
   "source": [
    "### take only one class (e.g. 2)\n",
    "labels = all_labels[all_labels[\"label\"] == 3]\n",
    "# ### sort by slant\n",
    "labels = labels.sort_values(by=[\"thickness\"])"
   ]
  },
  {
   "cell_type": "code",
   "execution_count": 31,
   "metadata": {},
   "outputs": [
    {
     "data": {
      "text/html": [
       "<div>\n",
       "<style scoped>\n",
       "    .dataframe tbody tr th:only-of-type {\n",
       "        vertical-align: middle;\n",
       "    }\n",
       "\n",
       "    .dataframe tbody tr th {\n",
       "        vertical-align: top;\n",
       "    }\n",
       "\n",
       "    .dataframe thead th {\n",
       "        text-align: right;\n",
       "    }\n",
       "</style>\n",
       "<table border=\"1\" class=\"dataframe\">\n",
       "  <thead>\n",
       "    <tr style=\"text-align: right;\">\n",
       "      <th></th>\n",
       "      <th>img</th>\n",
       "      <th>thickness</th>\n",
       "      <th>intensity</th>\n",
       "      <th>slant</th>\n",
       "      <th>label</th>\n",
       "    </tr>\n",
       "  </thead>\n",
       "  <tbody>\n",
       "    <tr>\n",
       "      <th>9601</th>\n",
       "      <td>00011/img00011601.png</td>\n",
       "      <td>2.480765</td>\n",
       "      <td>130.04984</td>\n",
       "      <td>15.378850</td>\n",
       "      <td>3.0</td>\n",
       "    </tr>\n",
       "    <tr>\n",
       "      <th>7628</th>\n",
       "      <td>00009/img00009628.png</td>\n",
       "      <td>2.482232</td>\n",
       "      <td>175.76633</td>\n",
       "      <td>-33.396187</td>\n",
       "      <td>3.0</td>\n",
       "    </tr>\n",
       "    <tr>\n",
       "      <th>3440</th>\n",
       "      <td>00005/img00005440.png</td>\n",
       "      <td>2.483077</td>\n",
       "      <td>170.06830</td>\n",
       "      <td>2.218972</td>\n",
       "      <td>3.0</td>\n",
       "    </tr>\n",
       "    <tr>\n",
       "      <th>421</th>\n",
       "      <td>00002/img00002421.png</td>\n",
       "      <td>2.483192</td>\n",
       "      <td>134.64307</td>\n",
       "      <td>-9.545312</td>\n",
       "      <td>3.0</td>\n",
       "    </tr>\n",
       "    <tr>\n",
       "      <th>380</th>\n",
       "      <td>00002/img00002380.png</td>\n",
       "      <td>2.483337</td>\n",
       "      <td>141.89240</td>\n",
       "      <td>3.875654</td>\n",
       "      <td>3.0</td>\n",
       "    </tr>\n",
       "    <tr>\n",
       "      <th>...</th>\n",
       "      <td>...</td>\n",
       "      <td>...</td>\n",
       "      <td>...</td>\n",
       "      <td>...</td>\n",
       "      <td>...</td>\n",
       "    </tr>\n",
       "    <tr>\n",
       "      <th>2062</th>\n",
       "      <td>00004/img00004062.png</td>\n",
       "      <td>3.054307</td>\n",
       "      <td>229.29973</td>\n",
       "      <td>15.795856</td>\n",
       "      <td>3.0</td>\n",
       "    </tr>\n",
       "    <tr>\n",
       "      <th>8710</th>\n",
       "      <td>00010/img00010710.png</td>\n",
       "      <td>3.054512</td>\n",
       "      <td>219.93765</td>\n",
       "      <td>22.599943</td>\n",
       "      <td>3.0</td>\n",
       "    </tr>\n",
       "    <tr>\n",
       "      <th>8763</th>\n",
       "      <td>00010/img00010763.png</td>\n",
       "      <td>3.055282</td>\n",
       "      <td>206.17351</td>\n",
       "      <td>11.985031</td>\n",
       "      <td>3.0</td>\n",
       "    </tr>\n",
       "    <tr>\n",
       "      <th>2321</th>\n",
       "      <td>00004/img00004321.png</td>\n",
       "      <td>3.058127</td>\n",
       "      <td>210.27611</td>\n",
       "      <td>31.705328</td>\n",
       "      <td>3.0</td>\n",
       "    </tr>\n",
       "    <tr>\n",
       "      <th>7275</th>\n",
       "      <td>00009/img00009275.png</td>\n",
       "      <td>3.059347</td>\n",
       "      <td>207.34073</td>\n",
       "      <td>27.435108</td>\n",
       "      <td>3.0</td>\n",
       "    </tr>\n",
       "  </tbody>\n",
       "</table>\n",
       "<p>300 rows × 5 columns</p>\n",
       "</div>"
      ],
      "text/plain": [
       "                        img  thickness  intensity      slant  label\n",
       "9601  00011/img00011601.png   2.480765  130.04984  15.378850    3.0\n",
       "7628  00009/img00009628.png   2.482232  175.76633 -33.396187    3.0\n",
       "3440  00005/img00005440.png   2.483077  170.06830   2.218972    3.0\n",
       "421   00002/img00002421.png   2.483192  134.64307  -9.545312    3.0\n",
       "380   00002/img00002380.png   2.483337  141.89240   3.875654    3.0\n",
       "...                     ...        ...        ...        ...    ...\n",
       "2062  00004/img00004062.png   3.054307  229.29973  15.795856    3.0\n",
       "8710  00010/img00010710.png   3.054512  219.93765  22.599943    3.0\n",
       "8763  00010/img00010763.png   3.055282  206.17351  11.985031    3.0\n",
       "2321  00004/img00004321.png   3.058127  210.27611  31.705328    3.0\n",
       "7275  00009/img00009275.png   3.059347  207.34073  27.435108    3.0\n",
       "\n",
       "[300 rows x 5 columns]"
      ]
     },
     "execution_count": 31,
     "metadata": {},
     "output_type": "execute_result"
    }
   ],
   "source": [
    "labels.iloc[500:800]"
   ]
  },
  {
   "cell_type": "code",
   "execution_count": 32,
   "metadata": {},
   "outputs": [],
   "source": [
    "# labels.describe()"
   ]
  },
  {
   "cell_type": "code",
   "execution_count": 33,
   "metadata": {},
   "outputs": [
    {
     "name": "stdout",
     "output_type": "stream",
     "text": [
      "(33, 5)\n"
     ]
    }
   ],
   "source": [
    "ll = labels.iloc[::30]\n",
    "print(ll.shape)"
   ]
  },
  {
   "cell_type": "code",
   "execution_count": 34,
   "metadata": {},
   "outputs": [
    {
     "data": {
      "text/html": [
       "<div>\n",
       "<style scoped>\n",
       "    .dataframe tbody tr th:only-of-type {\n",
       "        vertical-align: middle;\n",
       "    }\n",
       "\n",
       "    .dataframe tbody tr th {\n",
       "        vertical-align: top;\n",
       "    }\n",
       "\n",
       "    .dataframe thead th {\n",
       "        text-align: right;\n",
       "    }\n",
       "</style>\n",
       "<table border=\"1\" class=\"dataframe\">\n",
       "  <thead>\n",
       "    <tr style=\"text-align: right;\">\n",
       "      <th></th>\n",
       "      <th>thickness</th>\n",
       "      <th>intensity</th>\n",
       "      <th>slant</th>\n",
       "      <th>label</th>\n",
       "    </tr>\n",
       "  </thead>\n",
       "  <tbody>\n",
       "    <tr>\n",
       "      <th>count</th>\n",
       "      <td>33.000000</td>\n",
       "      <td>33.000000</td>\n",
       "      <td>33.000000</td>\n",
       "      <td>33.0</td>\n",
       "    </tr>\n",
       "    <tr>\n",
       "      <th>mean</th>\n",
       "      <td>2.478523</td>\n",
       "      <td>155.370493</td>\n",
       "      <td>-6.266727</td>\n",
       "      <td>3.0</td>\n",
       "    </tr>\n",
       "    <tr>\n",
       "      <th>std</th>\n",
       "      <td>0.660197</td>\n",
       "      <td>51.434171</td>\n",
       "      <td>29.941444</td>\n",
       "      <td>0.0</td>\n",
       "    </tr>\n",
       "    <tr>\n",
       "      <th>min</th>\n",
       "      <td>0.931663</td>\n",
       "      <td>68.050290</td>\n",
       "      <td>-53.442482</td>\n",
       "      <td>3.0</td>\n",
       "    </tr>\n",
       "    <tr>\n",
       "      <th>25%</th>\n",
       "      <td>2.060130</td>\n",
       "      <td>107.130220</td>\n",
       "      <td>-32.068554</td>\n",
       "      <td>3.0</td>\n",
       "    </tr>\n",
       "    <tr>\n",
       "      <th>50%</th>\n",
       "      <td>2.439515</td>\n",
       "      <td>156.136060</td>\n",
       "      <td>-11.589507</td>\n",
       "      <td>3.0</td>\n",
       "    </tr>\n",
       "    <tr>\n",
       "      <th>75%</th>\n",
       "      <td>2.866464</td>\n",
       "      <td>196.282700</td>\n",
       "      <td>11.900690</td>\n",
       "      <td>3.0</td>\n",
       "    </tr>\n",
       "    <tr>\n",
       "      <th>max</th>\n",
       "      <td>4.165691</td>\n",
       "      <td>242.865170</td>\n",
       "      <td>48.129154</td>\n",
       "      <td>3.0</td>\n",
       "    </tr>\n",
       "  </tbody>\n",
       "</table>\n",
       "</div>"
      ],
      "text/plain": [
       "       thickness   intensity      slant  label\n",
       "count  33.000000   33.000000  33.000000   33.0\n",
       "mean    2.478523  155.370493  -6.266727    3.0\n",
       "std     0.660197   51.434171  29.941444    0.0\n",
       "min     0.931663   68.050290 -53.442482    3.0\n",
       "25%     2.060130  107.130220 -32.068554    3.0\n",
       "50%     2.439515  156.136060 -11.589507    3.0\n",
       "75%     2.866464  196.282700  11.900690    3.0\n",
       "max     4.165691  242.865170  48.129154    3.0"
      ]
     },
     "execution_count": 34,
     "metadata": {},
     "output_type": "execute_result"
    }
   ],
   "source": [
    "ll.describe()\n",
    "# all_labels"
   ]
  },
  {
   "cell_type": "code",
   "execution_count": 35,
   "metadata": {},
   "outputs": [
    {
     "data": {
      "image/png": "[encoded data removed]",
      "text/plain": [
       "<Figure size 500x500 with 25 Axes>"
      ]
     },
     "metadata": {},
     "output_type": "display_data"
    }
   ],
   "source": [
    "ncols = 5\n",
    "nrows = 5\n",
    "plt.figure(figsize=(ncols, nrows))\n",
    "for i in range(nrows):\n",
    "    for j in range(ncols):\n",
    "        img_path = path + ll.iloc[i * ncols + j][\"img\"]\n",
    "        img = iio.imread(img_path)\n",
    "        img = np.asarray(img, dtype=np.float32)\n",
    "        img = (img - 0) * (255 / (255 - 0))\n",
    "        img = np.rint(img).clip(0, 255).astype(np.uint8)\n",
    "        plt.subplot(nrows, ncols, i * ncols + j + 1)\n",
    "        # plt.imshow(img, vmin=0, vmax=255)\n",
    "        plt.imshow(img, cmap=\"gray\", vmin=0, vmax=255)\n",
    "        plt.axis(\"off\")"
   ]
  },
  {
   "cell_type": "code",
   "execution_count": 177,
   "metadata": {},
   "outputs": [],
   "source": [
    "ll_slant = np.deg2rad(ll[\"slant\"].values)"
   ]
  },
  {
   "cell_type": "code",
   "execution_count": 178,
   "metadata": {},
   "outputs": [
    {
     "data": {
      "text/plain": [
       "array([-0.63980135, -0.63569701, -0.59217058, -0.55727878, -0.57304657,\n",
       "       -0.55890651, -0.54829531, -0.48676659, -0.53362461, -0.5058527 ,\n",
       "       -0.51125371, -0.47808329, -0.50305941, -0.49120714, -0.44558361,\n",
       "       -0.4830279 , -0.47553717, -0.46135082, -0.43330446, -0.46981185,\n",
       "       -0.44237496, -0.43843758, -0.46198797, -0.42293119, -0.44978627,\n",
       "       -0.42721632, -0.42009742, -0.44508078, -0.38687188, -0.38150768,\n",
       "       -0.39379728, -0.41719516, -0.38434506, -0.37822257, -0.4067804 ,\n",
       "       -0.40009893, -0.37212148, -0.372659  , -0.36973261, -0.38604344,\n",
       "       -0.36510736, -0.3826551 , -0.38918547, -0.34809866, -0.38644914,\n",
       "       -0.36242526, -0.37715651, -0.36672024, -0.3590984 , -0.33829692,\n",
       "       -0.34887268, -0.37156311, -0.31990307, -0.35569327, -0.32293434,\n",
       "       -0.30529313, -0.32946036, -0.34449759, -0.32755338, -0.31737017,\n",
       "       -0.31792059, -0.32408354, -0.30471679, -0.32468304, -0.32653061,\n",
       "       -0.29171555, -0.33160053, -0.28682114, -0.31394461, -0.31338701,\n",
       "       -0.31181058, -0.27901825, -0.2817441 , -0.28492055, -0.28373661,\n",
       "       -0.31799974, -0.2721092 , -0.28070684, -0.31301868, -0.29505234,\n",
       "       -0.27590882, -0.25774193, -0.24463601, -0.29799254, -0.28316998,\n",
       "       -0.26920307, -0.26046505, -0.27422976, -0.24934276, -0.2491247 ,\n",
       "       -0.23074207, -0.2525334 , -0.24035118, -0.24527159, -0.22259116,\n",
       "       -0.21020419, -0.24575599, -0.21530609, -0.18792459, -0.25243547,\n",
       "       -0.23636917, -0.1899834 , -0.25794636, -0.24127315, -0.19358204,\n",
       "       -0.22069208, -0.17925933, -0.22510939, -0.16719242, -0.19696594,\n",
       "       -0.21948318, -0.20682227, -0.19855663, -0.19865357, -0.17484681,\n",
       "       -0.19502199, -0.14796291, -0.19235899, -0.18228213, -0.19548286,\n",
       "       -0.17561244, -0.18502979, -0.17984936, -0.14237122, -0.14138633,\n",
       "       -0.18645084, -0.18869558, -0.12128655, -0.15267653, -0.13134588,\n",
       "       -0.16890305, -0.12535216, -0.13940351, -0.14255289, -0.12889001,\n",
       "       -0.11934985, -0.15510596, -0.14312662, -0.13242509, -0.11488011,\n",
       "       -0.12947312, -0.14739951, -0.12214952, -0.13519176, -0.13045943,\n",
       "       -0.12761402, -0.10368572, -0.13043737, -0.09201113, -0.10442841,\n",
       "       -0.10919565, -0.11328972, -0.10664584, -0.10302131, -0.09915068,\n",
       "       -0.10378364, -0.07712775, -0.05191352, -0.06574319, -0.04660177,\n",
       "       -0.05583088, -0.02379433, -0.04948522, -0.0097905 , -0.02913181,\n",
       "       -0.0271894 , -0.03653057, -0.03118249, -0.03433724, -0.02598349,\n",
       "       -0.01902841,  0.00581659, -0.02541347, -0.01573717,  0.00578733,\n",
       "        0.03057135, -0.01406549,  0.01691398, -0.00845749,  0.01967426,\n",
       "        0.00413698, -0.00074045,  0.06326192,  0.00430498,  0.01616333,\n",
       "        0.03541958,  0.05110691,  0.05398784,  0.06863311,  0.07859733,\n",
       "        0.11196352,  0.10097951,  0.08413859,  0.09284362,  0.1078946 ,\n",
       "        0.10905115,  0.10532722,  0.07555513,  0.10641797,  0.11890761,\n",
       "        0.14805279,  0.1447762 ,  0.15810929,  0.18165888,  0.16337997,\n",
       "        0.20064818,  0.21724317,  0.19690927,  0.20281969,  0.25726699,\n",
       "        0.2236689 ,  0.25816186,  0.2329977 ,  0.27121532,  0.30834552,\n",
       "        0.30304099,  0.34394315,  0.35626441,  0.35720837,  0.41008909,\n",
       "        0.40208173,  0.60984736])"
      ]
     },
     "execution_count": 178,
     "metadata": {},
     "output_type": "execute_result"
    }
   ],
   "source": [
    "ll_slant"
   ]
  },
  {
   "cell_type": "code",
   "execution_count": 179,
   "metadata": {},
   "outputs": [
    {
     "data": {
      "text/plain": [
       "array([-36.657917  , -36.422756  , -33.928875  , -31.929722  ,\n",
       "       -32.83315   , -32.022984  , -31.415007  , -27.889671  ,\n",
       "       -30.574438  , -28.983225  , -29.29268   , -27.392155  ,\n",
       "       -28.823181  , -28.144096  , -25.53006   , -27.67546   ,\n",
       "       -27.246273  , -26.433455  , -24.826517  , -26.918236  ,\n",
       "       -25.346218  , -25.120623  , -26.469961  , -24.232172  ,\n",
       "       -25.770855  , -24.477692  , -24.069809  , -25.50125   ,\n",
       "       -22.166126  , -21.85878   , -22.562922  , -23.903522  ,\n",
       "       -22.02135   , -21.670557  , -23.3068    , -22.92398   ,\n",
       "       -21.32099   , -21.351788  , -21.184118  , -22.11866   ,\n",
       "       -20.919111  , -21.924522  , -22.298685  , -19.944584  ,\n",
       "       -22.141905  , -20.765438  , -21.609476  , -21.011522  ,\n",
       "       -20.574823  , -19.382986  , -19.988932  , -21.288998  ,\n",
       "       -18.329096  , -20.379723  , -18.502775  , -17.492008  ,\n",
       "       -18.876688  , -19.738258  , -18.767426  , -18.183971  ,\n",
       "       -18.215508  , -18.568619  , -17.458986  , -18.602968  ,\n",
       "       -18.708826  , -16.71407   , -18.999311  , -16.433641  ,\n",
       "       -17.987701  , -17.955753  , -17.86543   , -15.986568  ,\n",
       "       -16.142748  , -16.324745  , -16.25691   , -18.220043  ,\n",
       "       -15.590709  , -16.083317  , -17.934649  , -16.905254  ,\n",
       "       -15.808411  , -14.767525  , -14.016611  , -17.073715  ,\n",
       "       -16.224445  , -15.4242    , -14.923548  , -15.712208  ,\n",
       "       -14.286288  , -14.273794  , -13.220547  , -14.469098  ,\n",
       "       -13.771108  , -14.053027  , -12.753534  , -12.043813  ,\n",
       "       -14.080781  , -12.33613   , -10.767286  , -14.463487  ,\n",
       "       -13.542956  , -10.885247  , -14.779238  , -13.823933  ,\n",
       "       -11.091434  , -12.644725  , -10.270803  , -12.897818  ,\n",
       "        -9.57942   , -11.285317  , -12.57546   , -11.850043  ,\n",
       "       -11.376457  , -11.382011  , -10.017984  , -11.173937  ,\n",
       "        -8.47765   , -11.021358  , -10.443997  , -11.200343  ,\n",
       "       -10.0618515 , -10.601426  , -10.304609  ,  -8.15727   ,\n",
       "        -8.10084   , -10.682846  , -10.8114605 ,  -6.9492073 ,\n",
       "        -8.747721  ,  -7.5255647 ,  -9.677432  ,  -7.18215   ,\n",
       "        -7.987233  ,  -8.167679  ,  -7.3848534 ,  -6.8382425 ,\n",
       "        -8.886917  ,  -8.200551  ,  -7.587399  ,  -6.5821457 ,\n",
       "        -7.4182634 ,  -8.44537   ,  -6.998652  ,  -7.7459173 ,\n",
       "        -7.474775  ,  -7.311745  ,  -5.940754  ,  -7.4735107 ,\n",
       "        -5.2718496 ,  -5.983307  ,  -6.2564497 ,  -6.491023  ,\n",
       "        -6.1103563 ,  -5.902686  ,  -5.6809154 ,  -5.9463644 ,\n",
       "        -4.4190946 ,  -2.9744258 ,  -3.7668073 ,  -2.6700845 ,\n",
       "        -3.1988738 ,  -1.3633149 ,  -2.8352942 ,  -0.56095433,\n",
       "        -1.6691298 ,  -1.5578377 ,  -2.0930474 ,  -1.7866253 ,\n",
       "        -1.9673791 ,  -1.4887444 ,  -1.0902473 ,   0.33326614,\n",
       "        -1.4560847 ,  -0.90167344,   0.33158952,   1.7516091 ,\n",
       "        -0.80589336,   0.9690995 ,  -0.48457825,   1.1272521 ,\n",
       "         0.2370317 ,  -0.04242444,   3.624641  ,   0.24665713,\n",
       "         0.92609036,   2.0293922 ,   2.9282103 ,   3.0932755 ,\n",
       "         3.9323874 ,   4.5032954 ,   6.415037  ,   5.7857    ,\n",
       "         4.820786  ,   5.3195477 ,   6.1819053 ,   6.2481704 ,\n",
       "         6.034805  ,   4.32899   ,   6.0973005 ,   6.8129044 ,\n",
       "         8.4828    ,   8.295065  ,   9.058995  ,  10.408287  ,\n",
       "         9.360983  ,  11.496294  ,  12.447117  ,  11.28207   ,\n",
       "        11.620712  ,  14.740313  ,  12.815284  ,  14.791585  ,\n",
       "        13.349785  ,  15.539493  ,  17.666897  ,  17.36297   ,\n",
       "        19.706491  ,  20.412447  ,  20.466532  ,  23.496374  ,\n",
       "        23.037586  ,  34.94168   ])"
      ]
     },
     "execution_count": 179,
     "metadata": {},
     "output_type": "execute_result"
    }
   ],
   "source": [
    "ll[\"slant\"].values"
   ]
  },
  {
   "cell_type": "code",
   "execution_count": 11,
   "metadata": {},
   "outputs": [
    {
     "name": "stderr",
     "output_type": "stream",
     "text": [
      "/dhc/home/wei-cheng.lai/conda3/envs/stylegan3_test/lib/python3.9/site-packages/scipy/__init__.py:146: UserWarning: A NumPy version >=1.16.5 and <1.23.0 is required for this version of SciPy (detected version 1.23.4\n",
      "  warnings.warn(f\"A NumPy version >={np_minversion} and <{np_maxversion}\"\n"
     ]
    },
    {
     "name": "stdout",
     "output_type": "stream",
     "text": [
      "No CUDA runtime is found, using CUDA_HOME='/dhc/home/wei-cheng.lai/conda3/envs/stylegan3_test'\n"
     ]
    }
   ],
   "source": [
    "sys.path.append(\"/dhc/home/wei-cheng.lai/projects/causal_gans/stylegan3/\")\n",
    "from metrics import metric_main\n",
    "from morphoswithmnist.morphomnist import io, measure\n",
    "from morphoswithmnist.morphomnist.morpho import ImageMorphology, ImageMoments\n",
    "\n",
    "image_path = \"/dhc/home/wei-cheng.lai/data/MNIST/raw/t10k-images-idx3-ubyte.gz\"\n",
    "images = io.load_idx(image_path)"
   ]
  },
  {
   "cell_type": "code",
   "execution_count": 20,
   "metadata": {},
   "outputs": [],
   "source": [
    "deg = []\n",
    "rad = []\n",
    "for i in np.arange(-180, 190, 10):\n",
    "    deg.append(i)\n",
    "    rad.append(np.deg2rad(i))"
   ]
  },
  {
   "cell_type": "code",
   "execution_count": 29,
   "metadata": {},
   "outputs": [
    {
     "name": "stdout",
     "output_type": "stream",
     "text": [
      "[-1.56524083 -1.56491404 -1.56454641 -1.56412976 -1.56365359 -1.56310417\n",
      " -1.56246319 -1.56170567 -1.56079666 -1.55968567 -1.55829698 -1.55651158\n",
      " -1.5541312  -1.55079899 -1.54580153 -1.53747533 -1.52083793 -1.47112767\n",
      "  0.          1.47112767  1.52083793  1.53747533  1.54580153  1.55079899\n",
      "  1.5541312   1.55651158  1.55829698  1.55968567  1.56079666  1.56170567\n",
      "  1.56246319  1.56310417  1.56365359  1.56412976  1.56454641  1.56491404\n",
      "  1.56524083]\n",
      "[-1.26262726 -1.24571888 -1.226925   -1.20592739 -1.18233656 -1.15567236\n",
      " -1.12533883 -1.09059189 -1.05049817 -1.00388482 -0.94928224 -0.88486958\n",
      " -0.80844879 -0.71750578 -0.60947097 -0.48234791 -0.33584237 -0.17279243\n",
      "  0.          0.17279243  0.33584237  0.48234791  0.60947097  0.71750578\n",
      "  0.80844879  0.88486958  0.94928224  1.00388482  1.05049817  1.09059189\n",
      "  1.12533883  1.15567236  1.18233656  1.20592739  1.226925    1.24571888\n",
      "  1.26262726]\n"
     ]
    }
   ],
   "source": [
    "angle = np.arctan(deg)\n",
    "print(angle)\n",
    "print(np.arctan(rad))"
   ]
  },
  {
   "cell_type": "code",
   "execution_count": 23,
   "metadata": {},
   "outputs": [],
   "source": [
    "tans = -np.tan(rad)"
   ]
  },
  {
   "cell_type": "code",
   "execution_count": 24,
   "metadata": {},
   "outputs": [
    {
     "data": {
      "text/plain": [
       "array([-1.22464680e-16, -1.76326981e-01, -3.63970234e-01, -5.77350269e-01,\n",
       "       -8.39099631e-01, -1.19175359e+00, -1.73205081e+00, -2.74747742e+00,\n",
       "       -5.67128182e+00,  1.63312394e+16,  5.67128182e+00,  2.74747742e+00,\n",
       "        1.73205081e+00,  1.19175359e+00,  8.39099631e-01,  5.77350269e-01,\n",
       "        3.63970234e-01,  1.76326981e-01, -0.00000000e+00, -1.76326981e-01,\n",
       "       -3.63970234e-01, -5.77350269e-01, -8.39099631e-01, -1.19175359e+00,\n",
       "       -1.73205081e+00, -2.74747742e+00, -5.67128182e+00, -1.63312394e+16,\n",
       "        5.67128182e+00,  2.74747742e+00,  1.73205081e+00,  1.19175359e+00,\n",
       "        8.39099631e-01,  5.77350269e-01,  3.63970234e-01,  1.76326981e-01,\n",
       "        1.22464680e-16])"
      ]
     },
     "execution_count": 24,
     "metadata": {},
     "output_type": "execute_result"
    }
   ],
   "source": [
    "tans"
   ]
  },
  {
   "cell_type": "code",
   "execution_count": 20,
   "metadata": {},
   "outputs": [
    {
     "name": "stdout",
     "output_type": "stream",
     "text": [
      "0 before:\n",
      "Area: 71.1\n",
      "Length: 33.7\n",
      "Thickness: 2.15\n",
      "Slant: 4°\n",
      "Dimensions: 15.1 x 19.6\n",
      "0 after1:\n",
      "Area: 92.9\n",
      "Length: 34.7\n",
      "Thickness: 2.63\n",
      "Slant: 11°\n",
      "Dimensions: 16.7 x 19.9\n",
      "0 after2:\n",
      "Area: 112.3\n",
      "Length: 35.5\n",
      "Thickness: 3.17\n",
      "Slant: 2°\n",
      "Dimensions: 14.6 x 19.1\n",
      "0 after3:\n",
      "Area: 98.8\n",
      "Length: 35.5\n",
      "Thickness: 2.77\n",
      "Slant: 2°\n",
      "Dimensions: 14.4 x 19.3\n",
      "0 after4:\n",
      "Area: 138.9\n",
      "Length: 37.3\n",
      "Thickness: 3.82\n",
      "Slant: 8°\n",
      "Dimensions: 14.3 x 20.3\n"
     ]
    },
    {
     "data": {
      "image/png": "[encoded data removed]",
      "text/plain": [
       "<Figure size 640x480 with 5 Axes>"
      ]
     },
     "metadata": {},
     "output_type": "display_data"
    },
    {
     "name": "stdout",
     "output_type": "stream",
     "text": [
      "\n"
     ]
    }
   ],
   "source": [
    "from morphoswithmnist.morphomnist.perturb import Swelling\n",
    "pert1 = Swelling(strength=3, radius=7)\n",
    "pert2 = Swelling(strength=3, radius=10)\n",
    "pert3 = Swelling(strength=3, radius=8)\n",
    "pert4 = Swelling(strength=5, radius=10)\n",
    "for n in range(1):\n",
    "    print(n, \"before:\")\n",
    "    measure.measure_image(images[n], verbose=True)\n",
    "\n",
    "    morph = ImageMorphology(images[n], scale=16)\n",
    "    pert_hires_image = pert1(morph)\n",
    "    pert_image1 = morph.downscale(pert_hires_image)\n",
    "\n",
    "    print(n, \"after1:\")\n",
    "    measure.measure_image(pert_image1, verbose=True)\n",
    "\n",
    "    morph = ImageMorphology(images[n], scale=16)\n",
    "    pert_hires_image = pert2(morph)\n",
    "    pert_image2 = morph.downscale(pert_hires_image)\n",
    "    print(n, \"after2:\")\n",
    "    measure.measure_image(pert_image2, verbose=True)\n",
    "\n",
    "    morph = ImageMorphology(images[n], scale=16)\n",
    "    pert_hires_image = pert3(morph)\n",
    "    pert_image3 = morph.downscale(pert_hires_image)\n",
    "    print(n, \"after3:\")\n",
    "    measure.measure_image(pert_image3, verbose=True)\n",
    "\n",
    "    morph = ImageMorphology(images[n], scale=16)\n",
    "    pert_hires_image = pert4(morph)\n",
    "    pert_image4 = morph.downscale(pert_hires_image)\n",
    "\n",
    "    print(n, \"after4:\")\n",
    "    measure.measure_image(pert_image4, verbose=True)\n",
    "\n",
    "    fig, (ax1, ax2, ax3, ax4, ax5) = plt.subplots(1, 5)\n",
    "    ax1.imshow(images[n], cmap='gray_r')\n",
    "    ax2.imshow(pert_image1, cmap='gray_r')\n",
    "    ax3.imshow(pert_image2, cmap='gray_r')\n",
    "    ax4.imshow(pert_image3, cmap='gray_r')\n",
    "    ax5.imshow(pert_image4, cmap='gray_r')\n",
    "    ax1.axis('off')\n",
    "    ax2.axis('off')\n",
    "    ax3.axis('off')\n",
    "    ax4.axis('off')\n",
    "    ax5.axis('off')\n",
    "    plt.show()\n",
    "    print()"
   ]
  },
  {
   "cell_type": "code",
   "execution_count": 13,
   "metadata": {},
   "outputs": [
    {
     "name": "stdout",
     "output_type": "stream",
     "text": [
      "0 before:\n",
      "Area: 71.1\n",
      "Length: 33.4\n",
      "Thickness: 2.14\n",
      "Slant: 4°\n",
      "Dimensions: 15.1 x 19.6\n",
      "0 after:\n",
      "Area: 60.4\n",
      "Length: 46.0\n",
      "Thickness: 1.52\n",
      "Slant: 52°\n",
      "Dimensions: 14.8 x 17.0\n"
     ]
    },
    {
     "data": {
      "image/png": "[encoded data removed]",
      "text/plain": [
       "<Figure size 640x480 with 2 Axes>"
      ]
     },
     "metadata": {},
     "output_type": "display_data"
    },
    {
     "name": "stdout",
     "output_type": "stream",
     "text": [
      "\n",
      "1 before:\n",
      "Area: 112.8\n",
      "Length: 46.0\n",
      "Thickness: 2.57\n",
      "Slant: -10°\n",
      "Dimensions: 17.6 x 19.9\n",
      "1 after:\n",
      "Area: 89.8\n",
      "Length: 59.2\n",
      "Thickness: 1.78\n",
      "Slant: 52°\n",
      "Dimensions: 17.1 x 18.7\n"
     ]
    },
    {
     "data": {
      "image/png": "[encoded data removed]",
      "text/plain": [
       "<Figure size 640x480 with 2 Axes>"
      ]
     },
     "metadata": {},
     "output_type": "display_data"
    },
    {
     "name": "stdout",
     "output_type": "stream",
     "text": [
      "\n"
     ]
    }
   ],
   "source": [
    "from morphoswithmnist.morphomnist.transforms import SetThickness, SetSlant\n",
    "pert = SetSlant(np.deg2rad(56))\n",
    "for n in range(2):\n",
    "    print(n, \"before:\")\n",
    "    measure.measure_image(images[n], verbose=True)\n",
    "\n",
    "    morph = ImageMorphology(images[n], scale=16)\n",
    "    pert_hires_image = pert(morph)\n",
    "    pert_image = morph.downscale(pert_hires_image)\n",
    "\n",
    "    print(n, \"after:\")\n",
    "    measure.measure_image(pert_image, verbose=True)\n",
    "\n",
    "    fig, (ax1, ax2) = plt.subplots(1, 2)\n",
    "    ax1.imshow(images[n], cmap='gray_r')\n",
    "    ax2.imshow(pert_image, cmap='gray_r')\n",
    "    ax1.axis('off')\n",
    "    ax2.axis('off')\n",
    "    plt.show()\n",
    "    print()"
   ]
  }
 ],
 "metadata": {
  "kernelspec": {
   "display_name": "stylegan3_test",
   "language": "python",
   "name": "python3"
  },
  "language_info": {
   "codemirror_mode": {
    "name": "ipython",
    "version": 3
   },
   "file_extension": ".py",
   "mimetype": "text/x-python",
   "name": "python",
   "nbconvert_exporter": "python",
   "pygments_lexer": "ipython3",
   "version": "3.9.15"
  },
  "orig_nbformat": 4
 },
 "nbformat": 4,
 "nbformat_minor": 2
}

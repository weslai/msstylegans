{
 "cells": [
  {
   "cell_type": "code",
   "execution_count": 1,
   "metadata": {},
   "outputs": [],
   "source": [
    "import sys\n",
    "import numpy as np\n",
    "import pandas as pd\n",
    "import imageio as iio\n",
    "import matplotlib.pyplot as plt"
   ]
  },
  {
   "cell_type": "code",
   "execution_count": 2,
   "metadata": {},
   "outputs": [],
   "source": [
    "path = \"/dhc/groups/fglippert/MorphoMNIST/mnist_thickness_slant/trainset/\"\n",
    "labels = pd.read_json(path + \"dataset.json\")"
   ]
  },
  {
   "cell_type": "code",
   "execution_count": 184,
   "metadata": {},
   "outputs": [
    {
     "data": {
      "text/html": [
       "<div>\n",
       "<style scoped>\n",
       "    .dataframe tbody tr th:only-of-type {\n",
       "        vertical-align: middle;\n",
       "    }\n",
       "\n",
       "    .dataframe tbody tr th {\n",
       "        vertical-align: top;\n",
       "    }\n",
       "\n",
       "    .dataframe thead th {\n",
       "        text-align: right;\n",
       "    }\n",
       "</style>\n",
       "<table border=\"1\" class=\"dataframe\">\n",
       "  <thead>\n",
       "    <tr style=\"text-align: right;\">\n",
       "      <th></th>\n",
       "      <th>labels</th>\n",
       "    </tr>\n",
       "  </thead>\n",
       "  <tbody>\n",
       "    <tr>\n",
       "      <th>0</th>\n",
       "      <td>[00000/img00000000.png, {'thickness': 2.318287...</td>\n",
       "    </tr>\n",
       "    <tr>\n",
       "      <th>1</th>\n",
       "      <td>[00000/img00000001.png, {'thickness': 1.741932...</td>\n",
       "    </tr>\n",
       "    <tr>\n",
       "      <th>2</th>\n",
       "      <td>[00000/img00000002.png, {'thickness': 1.097795...</td>\n",
       "    </tr>\n",
       "    <tr>\n",
       "      <th>3</th>\n",
       "      <td>[00000/img00000003.png, {'thickness': 1.706288...</td>\n",
       "    </tr>\n",
       "    <tr>\n",
       "      <th>4</th>\n",
       "      <td>[00000/img00000004.png, {'thickness': 2.110856...</td>\n",
       "    </tr>\n",
       "  </tbody>\n",
       "</table>\n",
       "</div>"
      ],
      "text/plain": [
       "                                              labels\n",
       "0  [00000/img00000000.png, {'thickness': 2.318287...\n",
       "1  [00000/img00000001.png, {'thickness': 1.741932...\n",
       "2  [00000/img00000002.png, {'thickness': 1.097795...\n",
       "3  [00000/img00000003.png, {'thickness': 1.706288...\n",
       "4  [00000/img00000004.png, {'thickness': 2.110856..."
      ]
     },
     "execution_count": 184,
     "metadata": {},
     "output_type": "execute_result"
    }
   ],
   "source": [
    "labels.head()"
   ]
  },
  {
   "cell_type": "code",
   "execution_count": 165,
   "metadata": {},
   "outputs": [],
   "source": [
    "labels = labels[\"labels\"]"
   ]
  },
  {
   "cell_type": "code",
   "execution_count": 166,
   "metadata": {},
   "outputs": [
    {
     "data": {
      "text/plain": [
       "['00000/img00000000.png',\n",
       " {'thickness': 2.3182874, 'slant': -4.9231415, 'label': 1.0}]"
      ]
     },
     "execution_count": 166,
     "metadata": {},
     "output_type": "execute_result"
    }
   ],
   "source": [
    "labels[0]"
   ]
  },
  {
   "cell_type": "code",
   "execution_count": 167,
   "metadata": {},
   "outputs": [
    {
     "data": {
      "text/plain": [
       "0        [00000/img00000000.png, {'thickness': 2.318287...\n",
       "1        [00000/img00000001.png, {'thickness': 1.741932...\n",
       "2        [00000/img00000002.png, {'thickness': 1.097795...\n",
       "3        [00000/img00000003.png, {'thickness': 1.706288...\n",
       "4        [00000/img00000004.png, {'thickness': 2.110856...\n",
       "                               ...                        \n",
       "53995    [00053/img00053995.png, {'thickness': 2.413601...\n",
       "53996    [00053/img00053996.png, {'thickness': 2.515668...\n",
       "53997    [00053/img00053997.png, {'thickness': 1.269226...\n",
       "53998    [00053/img00053998.png, {'thickness': 1.289402...\n",
       "53999    [00053/img00053999.png, {'thickness': 2.218622...\n",
       "Name: labels, Length: 54000, dtype: object"
      ]
     },
     "execution_count": 167,
     "metadata": {},
     "output_type": "execute_result"
    }
   ],
   "source": [
    "labels.view()"
   ]
  },
  {
   "cell_type": "code",
   "execution_count": 168,
   "metadata": {},
   "outputs": [],
   "source": [
    "all_labels = pd.DataFrame(columns=[\"img\"] + list(labels[0][1].keys()))\n",
    "for i in range(10000):\n",
    "    single = []\n",
    "    single.append(labels[5000 + i][0])\n",
    "    for key in labels[5000 + i][1].keys():\n",
    "        single.append(labels[5000 + i][1][key])\n",
    "    all_labels.loc[i] = single"
   ]
  },
  {
   "cell_type": "code",
   "execution_count": 169,
   "metadata": {},
   "outputs": [
    {
     "data": {
      "text/html": [
       "<div>\n",
       "<style scoped>\n",
       "    .dataframe tbody tr th:only-of-type {\n",
       "        vertical-align: middle;\n",
       "    }\n",
       "\n",
       "    .dataframe tbody tr th {\n",
       "        vertical-align: top;\n",
       "    }\n",
       "\n",
       "    .dataframe thead th {\n",
       "        text-align: right;\n",
       "    }\n",
       "</style>\n",
       "<table border=\"1\" class=\"dataframe\">\n",
       "  <thead>\n",
       "    <tr style=\"text-align: right;\">\n",
       "      <th></th>\n",
       "      <th>img</th>\n",
       "      <th>thickness</th>\n",
       "      <th>slant</th>\n",
       "      <th>label</th>\n",
       "    </tr>\n",
       "  </thead>\n",
       "  <tbody>\n",
       "    <tr>\n",
       "      <th>0</th>\n",
       "      <td>00005/img00005000.png</td>\n",
       "      <td>2.089288</td>\n",
       "      <td>-8.498535</td>\n",
       "      <td>3.0</td>\n",
       "    </tr>\n",
       "    <tr>\n",
       "      <th>1</th>\n",
       "      <td>00005/img00005001.png</td>\n",
       "      <td>1.376286</td>\n",
       "      <td>-23.346119</td>\n",
       "      <td>2.0</td>\n",
       "    </tr>\n",
       "    <tr>\n",
       "      <th>2</th>\n",
       "      <td>00005/img00005002.png</td>\n",
       "      <td>1.570175</td>\n",
       "      <td>-16.673544</td>\n",
       "      <td>5.0</td>\n",
       "    </tr>\n",
       "    <tr>\n",
       "      <th>3</th>\n",
       "      <td>00005/img00005003.png</td>\n",
       "      <td>1.764702</td>\n",
       "      <td>-13.200317</td>\n",
       "      <td>0.0</td>\n",
       "    </tr>\n",
       "    <tr>\n",
       "      <th>4</th>\n",
       "      <td>00005/img00005004.png</td>\n",
       "      <td>1.128856</td>\n",
       "      <td>-28.013315</td>\n",
       "      <td>7.0</td>\n",
       "    </tr>\n",
       "  </tbody>\n",
       "</table>\n",
       "</div>"
      ],
      "text/plain": [
       "                     img  thickness      slant  label\n",
       "0  00005/img00005000.png   2.089288  -8.498535    3.0\n",
       "1  00005/img00005001.png   1.376286 -23.346119    2.0\n",
       "2  00005/img00005002.png   1.570175 -16.673544    5.0\n",
       "3  00005/img00005003.png   1.764702 -13.200317    0.0\n",
       "4  00005/img00005004.png   1.128856 -28.013315    7.0"
      ]
     },
     "execution_count": 169,
     "metadata": {},
     "output_type": "execute_result"
    }
   ],
   "source": [
    "all_labels.head()"
   ]
  },
  {
   "cell_type": "code",
   "execution_count": 170,
   "metadata": {},
   "outputs": [],
   "source": [
    "### take only one class (e.g. 2)\n",
    "labels = all_labels[all_labels[\"label\"] == 5]\n",
    "### sort by slant\n",
    "labels = labels.sort_values(by=[\"thickness\"])"
   ]
  },
  {
   "cell_type": "code",
   "execution_count": 171,
   "metadata": {},
   "outputs": [
    {
     "data": {
      "text/html": [
       "<div>\n",
       "<style scoped>\n",
       "    .dataframe tbody tr th:only-of-type {\n",
       "        vertical-align: middle;\n",
       "    }\n",
       "\n",
       "    .dataframe tbody tr th {\n",
       "        vertical-align: top;\n",
       "    }\n",
       "\n",
       "    .dataframe thead th {\n",
       "        text-align: right;\n",
       "    }\n",
       "</style>\n",
       "<table border=\"1\" class=\"dataframe\">\n",
       "  <thead>\n",
       "    <tr style=\"text-align: right;\">\n",
       "      <th></th>\n",
       "      <th>img</th>\n",
       "      <th>thickness</th>\n",
       "      <th>slant</th>\n",
       "      <th>label</th>\n",
       "    </tr>\n",
       "  </thead>\n",
       "  <tbody>\n",
       "    <tr>\n",
       "      <th>4867</th>\n",
       "      <td>00009/img00009867.png</td>\n",
       "      <td>2.035215</td>\n",
       "      <td>-10.682846</td>\n",
       "      <td>5.0</td>\n",
       "    </tr>\n",
       "    <tr>\n",
       "      <th>3079</th>\n",
       "      <td>00008/img00008079.png</td>\n",
       "      <td>2.036621</td>\n",
       "      <td>-10.433465</td>\n",
       "      <td>5.0</td>\n",
       "    </tr>\n",
       "    <tr>\n",
       "      <th>4744</th>\n",
       "      <td>00009/img00009744.png</td>\n",
       "      <td>2.038483</td>\n",
       "      <td>-9.097104</td>\n",
       "      <td>5.0</td>\n",
       "    </tr>\n",
       "    <tr>\n",
       "      <th>7422</th>\n",
       "      <td>00012/img00012422.png</td>\n",
       "      <td>2.039117</td>\n",
       "      <td>-7.741674</td>\n",
       "      <td>5.0</td>\n",
       "    </tr>\n",
       "    <tr>\n",
       "      <th>2509</th>\n",
       "      <td>00007/img00007509.png</td>\n",
       "      <td>2.039626</td>\n",
       "      <td>-10.811460</td>\n",
       "      <td>5.0</td>\n",
       "    </tr>\n",
       "    <tr>\n",
       "      <th>3834</th>\n",
       "      <td>00008/img00008834.png</td>\n",
       "      <td>2.044868</td>\n",
       "      <td>-8.181248</td>\n",
       "      <td>5.0</td>\n",
       "    </tr>\n",
       "    <tr>\n",
       "      <th>2717</th>\n",
       "      <td>00007/img00007717.png</td>\n",
       "      <td>2.050264</td>\n",
       "      <td>-8.384533</td>\n",
       "      <td>5.0</td>\n",
       "    </tr>\n",
       "    <tr>\n",
       "      <th>7284</th>\n",
       "      <td>00012/img00012284.png</td>\n",
       "      <td>2.051529</td>\n",
       "      <td>-8.693778</td>\n",
       "      <td>5.0</td>\n",
       "    </tr>\n",
       "    <tr>\n",
       "      <th>6881</th>\n",
       "      <td>00011/img00011881.png</td>\n",
       "      <td>2.051619</td>\n",
       "      <td>-6.949207</td>\n",
       "      <td>5.0</td>\n",
       "    </tr>\n",
       "    <tr>\n",
       "      <th>2426</th>\n",
       "      <td>00007/img00007426.png</td>\n",
       "      <td>2.062709</td>\n",
       "      <td>-9.403797</td>\n",
       "      <td>5.0</td>\n",
       "    </tr>\n",
       "    <tr>\n",
       "      <th>7697</th>\n",
       "      <td>00012/img00012697.png</td>\n",
       "      <td>2.065492</td>\n",
       "      <td>-9.019255</td>\n",
       "      <td>5.0</td>\n",
       "    </tr>\n",
       "    <tr>\n",
       "      <th>772</th>\n",
       "      <td>00005/img00005772.png</td>\n",
       "      <td>2.065649</td>\n",
       "      <td>-9.646364</td>\n",
       "      <td>5.0</td>\n",
       "    </tr>\n",
       "    <tr>\n",
       "      <th>649</th>\n",
       "      <td>00005/img00005649.png</td>\n",
       "      <td>2.066311</td>\n",
       "      <td>-8.747721</td>\n",
       "      <td>5.0</td>\n",
       "    </tr>\n",
       "    <tr>\n",
       "      <th>5691</th>\n",
       "      <td>00010/img00010691.png</td>\n",
       "      <td>2.070855</td>\n",
       "      <td>-9.561030</td>\n",
       "      <td>5.0</td>\n",
       "    </tr>\n",
       "    <tr>\n",
       "      <th>1670</th>\n",
       "      <td>00006/img00006670.png</td>\n",
       "      <td>2.074855</td>\n",
       "      <td>-9.604527</td>\n",
       "      <td>5.0</td>\n",
       "    </tr>\n",
       "    <tr>\n",
       "      <th>9126</th>\n",
       "      <td>00014/img00014126.png</td>\n",
       "      <td>2.075581</td>\n",
       "      <td>-8.349146</td>\n",
       "      <td>5.0</td>\n",
       "    </tr>\n",
       "    <tr>\n",
       "      <th>7114</th>\n",
       "      <td>00012/img00012114.png</td>\n",
       "      <td>2.077536</td>\n",
       "      <td>-7.525565</td>\n",
       "      <td>5.0</td>\n",
       "    </tr>\n",
       "    <tr>\n",
       "      <th>5085</th>\n",
       "      <td>00010/img00010085.png</td>\n",
       "      <td>2.079597</td>\n",
       "      <td>-7.199317</td>\n",
       "      <td>5.0</td>\n",
       "    </tr>\n",
       "    <tr>\n",
       "      <th>8868</th>\n",
       "      <td>00013/img00013868.png</td>\n",
       "      <td>2.079954</td>\n",
       "      <td>-7.431463</td>\n",
       "      <td>5.0</td>\n",
       "    </tr>\n",
       "    <tr>\n",
       "      <th>1132</th>\n",
       "      <td>00006/img00006132.png</td>\n",
       "      <td>2.080174</td>\n",
       "      <td>-9.061281</td>\n",
       "      <td>5.0</td>\n",
       "    </tr>\n",
       "    <tr>\n",
       "      <th>4533</th>\n",
       "      <td>00009/img00009533.png</td>\n",
       "      <td>2.081191</td>\n",
       "      <td>-9.677432</td>\n",
       "      <td>5.0</td>\n",
       "    </tr>\n",
       "    <tr>\n",
       "      <th>5229</th>\n",
       "      <td>00010/img00010229.png</td>\n",
       "      <td>2.085417</td>\n",
       "      <td>-8.462284</td>\n",
       "      <td>5.0</td>\n",
       "    </tr>\n",
       "    <tr>\n",
       "      <th>3471</th>\n",
       "      <td>00008/img00008471.png</td>\n",
       "      <td>2.087288</td>\n",
       "      <td>-8.014223</td>\n",
       "      <td>5.0</td>\n",
       "    </tr>\n",
       "    <tr>\n",
       "      <th>3163</th>\n",
       "      <td>00008/img00008163.png</td>\n",
       "      <td>2.088858</td>\n",
       "      <td>-9.264165</td>\n",
       "      <td>5.0</td>\n",
       "    </tr>\n",
       "    <tr>\n",
       "      <th>6433</th>\n",
       "      <td>00011/img00011433.png</td>\n",
       "      <td>2.088899</td>\n",
       "      <td>-7.182150</td>\n",
       "      <td>5.0</td>\n",
       "    </tr>\n",
       "    <tr>\n",
       "      <th>9049</th>\n",
       "      <td>00014/img00014049.png</td>\n",
       "      <td>2.089164</td>\n",
       "      <td>-8.222885</td>\n",
       "      <td>5.0</td>\n",
       "    </tr>\n",
       "    <tr>\n",
       "      <th>2440</th>\n",
       "      <td>00007/img00007440.png</td>\n",
       "      <td>2.092767</td>\n",
       "      <td>-8.525944</td>\n",
       "      <td>5.0</td>\n",
       "    </tr>\n",
       "    <tr>\n",
       "      <th>9159</th>\n",
       "      <td>00014/img00014159.png</td>\n",
       "      <td>2.093702</td>\n",
       "      <td>-8.017879</td>\n",
       "      <td>5.0</td>\n",
       "    </tr>\n",
       "    <tr>\n",
       "      <th>3277</th>\n",
       "      <td>00008/img00008277.png</td>\n",
       "      <td>2.094796</td>\n",
       "      <td>-7.987233</td>\n",
       "      <td>5.0</td>\n",
       "    </tr>\n",
       "    <tr>\n",
       "      <th>8793</th>\n",
       "      <td>00013/img00013793.png</td>\n",
       "      <td>2.095529</td>\n",
       "      <td>-7.863620</td>\n",
       "      <td>5.0</td>\n",
       "    </tr>\n",
       "    <tr>\n",
       "      <th>3698</th>\n",
       "      <td>00008/img00008698.png</td>\n",
       "      <td>2.096987</td>\n",
       "      <td>-8.208034</td>\n",
       "      <td>5.0</td>\n",
       "    </tr>\n",
       "    <tr>\n",
       "      <th>557</th>\n",
       "      <td>00005/img00005557.png</td>\n",
       "      <td>2.097608</td>\n",
       "      <td>-10.054199</td>\n",
       "      <td>5.0</td>\n",
       "    </tr>\n",
       "    <tr>\n",
       "      <th>6759</th>\n",
       "      <td>00011/img00011759.png</td>\n",
       "      <td>2.099562</td>\n",
       "      <td>-8.167679</td>\n",
       "      <td>5.0</td>\n",
       "    </tr>\n",
       "    <tr>\n",
       "      <th>5631</th>\n",
       "      <td>00010/img00010631.png</td>\n",
       "      <td>2.099613</td>\n",
       "      <td>-9.001543</td>\n",
       "      <td>5.0</td>\n",
       "    </tr>\n",
       "    <tr>\n",
       "      <th>3401</th>\n",
       "      <td>00008/img00008401.png</td>\n",
       "      <td>2.101225</td>\n",
       "      <td>-9.652808</td>\n",
       "      <td>5.0</td>\n",
       "    </tr>\n",
       "    <tr>\n",
       "      <th>5763</th>\n",
       "      <td>00010/img00010763.png</td>\n",
       "      <td>2.101850</td>\n",
       "      <td>-8.610941</td>\n",
       "      <td>5.0</td>\n",
       "    </tr>\n",
       "    <tr>\n",
       "      <th>3066</th>\n",
       "      <td>00008/img00008066.png</td>\n",
       "      <td>2.102894</td>\n",
       "      <td>-7.384853</td>\n",
       "      <td>5.0</td>\n",
       "    </tr>\n",
       "    <tr>\n",
       "      <th>5974</th>\n",
       "      <td>00010/img00010974.png</td>\n",
       "      <td>2.102906</td>\n",
       "      <td>-7.664247</td>\n",
       "      <td>5.0</td>\n",
       "    </tr>\n",
       "    <tr>\n",
       "      <th>9562</th>\n",
       "      <td>00014/img00014562.png</td>\n",
       "      <td>2.105467</td>\n",
       "      <td>-8.926364</td>\n",
       "      <td>5.0</td>\n",
       "    </tr>\n",
       "    <tr>\n",
       "      <th>1329</th>\n",
       "      <td>00006/img00006329.png</td>\n",
       "      <td>2.107251</td>\n",
       "      <td>-10.254755</td>\n",
       "      <td>5.0</td>\n",
       "    </tr>\n",
       "    <tr>\n",
       "      <th>2194</th>\n",
       "      <td>00007/img00007194.png</td>\n",
       "      <td>2.107384</td>\n",
       "      <td>-6.838242</td>\n",
       "      <td>5.0</td>\n",
       "    </tr>\n",
       "    <tr>\n",
       "      <th>3156</th>\n",
       "      <td>00008/img00008156.png</td>\n",
       "      <td>2.107998</td>\n",
       "      <td>-8.502993</td>\n",
       "      <td>5.0</td>\n",
       "    </tr>\n",
       "    <tr>\n",
       "      <th>9338</th>\n",
       "      <td>00014/img00014338.png</td>\n",
       "      <td>2.108677</td>\n",
       "      <td>-7.213866</td>\n",
       "      <td>5.0</td>\n",
       "    </tr>\n",
       "    <tr>\n",
       "      <th>5175</th>\n",
       "      <td>00010/img00010175.png</td>\n",
       "      <td>2.110164</td>\n",
       "      <td>-7.742945</td>\n",
       "      <td>5.0</td>\n",
       "    </tr>\n",
       "    <tr>\n",
       "      <th>9050</th>\n",
       "      <td>00014/img00014050.png</td>\n",
       "      <td>2.111569</td>\n",
       "      <td>-8.886917</td>\n",
       "      <td>5.0</td>\n",
       "    </tr>\n",
       "    <tr>\n",
       "      <th>4518</th>\n",
       "      <td>00009/img00009518.png</td>\n",
       "      <td>2.112127</td>\n",
       "      <td>-7.746420</td>\n",
       "      <td>5.0</td>\n",
       "    </tr>\n",
       "    <tr>\n",
       "      <th>2257</th>\n",
       "      <td>00007/img00007257.png</td>\n",
       "      <td>2.112285</td>\n",
       "      <td>-5.248363</td>\n",
       "      <td>5.0</td>\n",
       "    </tr>\n",
       "    <tr>\n",
       "      <th>3388</th>\n",
       "      <td>00008/img00008388.png</td>\n",
       "      <td>2.113943</td>\n",
       "      <td>-8.047521</td>\n",
       "      <td>5.0</td>\n",
       "    </tr>\n",
       "    <tr>\n",
       "      <th>7503</th>\n",
       "      <td>00012/img00012503.png</td>\n",
       "      <td>2.117067</td>\n",
       "      <td>-8.200551</td>\n",
       "      <td>5.0</td>\n",
       "    </tr>\n",
       "    <tr>\n",
       "      <th>5872</th>\n",
       "      <td>00010/img00010872.png</td>\n",
       "      <td>2.119420</td>\n",
       "      <td>-6.858238</td>\n",
       "      <td>5.0</td>\n",
       "    </tr>\n",
       "    <tr>\n",
       "      <th>6457</th>\n",
       "      <td>00011/img00011457.png</td>\n",
       "      <td>2.119959</td>\n",
       "      <td>-8.820003</td>\n",
       "      <td>5.0</td>\n",
       "    </tr>\n",
       "    <tr>\n",
       "      <th>1477</th>\n",
       "      <td>00006/img00006477.png</td>\n",
       "      <td>2.120042</td>\n",
       "      <td>-6.402818</td>\n",
       "      <td>5.0</td>\n",
       "    </tr>\n",
       "    <tr>\n",
       "      <th>2172</th>\n",
       "      <td>00007/img00007172.png</td>\n",
       "      <td>2.120220</td>\n",
       "      <td>-7.587399</td>\n",
       "      <td>5.0</td>\n",
       "    </tr>\n",
       "    <tr>\n",
       "      <th>413</th>\n",
       "      <td>00005/img00005413.png</td>\n",
       "      <td>2.122095</td>\n",
       "      <td>-7.910147</td>\n",
       "      <td>5.0</td>\n",
       "    </tr>\n",
       "    <tr>\n",
       "      <th>8662</th>\n",
       "      <td>00013/img00013662.png</td>\n",
       "      <td>2.122949</td>\n",
       "      <td>-6.708777</td>\n",
       "      <td>5.0</td>\n",
       "    </tr>\n",
       "    <tr>\n",
       "      <th>1280</th>\n",
       "      <td>00006/img00006280.png</td>\n",
       "      <td>2.124757</td>\n",
       "      <td>-7.288334</td>\n",
       "      <td>5.0</td>\n",
       "    </tr>\n",
       "    <tr>\n",
       "      <th>6914</th>\n",
       "      <td>00011/img00011914.png</td>\n",
       "      <td>2.124775</td>\n",
       "      <td>-6.582146</td>\n",
       "      <td>5.0</td>\n",
       "    </tr>\n",
       "    <tr>\n",
       "      <th>5786</th>\n",
       "      <td>00010/img00010786.png</td>\n",
       "      <td>2.126274</td>\n",
       "      <td>-8.767984</td>\n",
       "      <td>5.0</td>\n",
       "    </tr>\n",
       "    <tr>\n",
       "      <th>399</th>\n",
       "      <td>00005/img00005399.png</td>\n",
       "      <td>2.126712</td>\n",
       "      <td>-7.174027</td>\n",
       "      <td>5.0</td>\n",
       "    </tr>\n",
       "    <tr>\n",
       "      <th>5352</th>\n",
       "      <td>00010/img00010352.png</td>\n",
       "      <td>2.132175</td>\n",
       "      <td>-10.290335</td>\n",
       "      <td>5.0</td>\n",
       "    </tr>\n",
       "  </tbody>\n",
       "</table>\n",
       "</div>"
      ],
      "text/plain": [
       "                        img  thickness      slant  label\n",
       "4867  00009/img00009867.png   2.035215 -10.682846    5.0\n",
       "3079  00008/img00008079.png   2.036621 -10.433465    5.0\n",
       "4744  00009/img00009744.png   2.038483  -9.097104    5.0\n",
       "7422  00012/img00012422.png   2.039117  -7.741674    5.0\n",
       "2509  00007/img00007509.png   2.039626 -10.811460    5.0\n",
       "3834  00008/img00008834.png   2.044868  -8.181248    5.0\n",
       "2717  00007/img00007717.png   2.050264  -8.384533    5.0\n",
       "7284  00012/img00012284.png   2.051529  -8.693778    5.0\n",
       "6881  00011/img00011881.png   2.051619  -6.949207    5.0\n",
       "2426  00007/img00007426.png   2.062709  -9.403797    5.0\n",
       "7697  00012/img00012697.png   2.065492  -9.019255    5.0\n",
       "772   00005/img00005772.png   2.065649  -9.646364    5.0\n",
       "649   00005/img00005649.png   2.066311  -8.747721    5.0\n",
       "5691  00010/img00010691.png   2.070855  -9.561030    5.0\n",
       "1670  00006/img00006670.png   2.074855  -9.604527    5.0\n",
       "9126  00014/img00014126.png   2.075581  -8.349146    5.0\n",
       "7114  00012/img00012114.png   2.077536  -7.525565    5.0\n",
       "5085  00010/img00010085.png   2.079597  -7.199317    5.0\n",
       "8868  00013/img00013868.png   2.079954  -7.431463    5.0\n",
       "1132  00006/img00006132.png   2.080174  -9.061281    5.0\n",
       "4533  00009/img00009533.png   2.081191  -9.677432    5.0\n",
       "5229  00010/img00010229.png   2.085417  -8.462284    5.0\n",
       "3471  00008/img00008471.png   2.087288  -8.014223    5.0\n",
       "3163  00008/img00008163.png   2.088858  -9.264165    5.0\n",
       "6433  00011/img00011433.png   2.088899  -7.182150    5.0\n",
       "9049  00014/img00014049.png   2.089164  -8.222885    5.0\n",
       "2440  00007/img00007440.png   2.092767  -8.525944    5.0\n",
       "9159  00014/img00014159.png   2.093702  -8.017879    5.0\n",
       "3277  00008/img00008277.png   2.094796  -7.987233    5.0\n",
       "8793  00013/img00013793.png   2.095529  -7.863620    5.0\n",
       "3698  00008/img00008698.png   2.096987  -8.208034    5.0\n",
       "557   00005/img00005557.png   2.097608 -10.054199    5.0\n",
       "6759  00011/img00011759.png   2.099562  -8.167679    5.0\n",
       "5631  00010/img00010631.png   2.099613  -9.001543    5.0\n",
       "3401  00008/img00008401.png   2.101225  -9.652808    5.0\n",
       "5763  00010/img00010763.png   2.101850  -8.610941    5.0\n",
       "3066  00008/img00008066.png   2.102894  -7.384853    5.0\n",
       "5974  00010/img00010974.png   2.102906  -7.664247    5.0\n",
       "9562  00014/img00014562.png   2.105467  -8.926364    5.0\n",
       "1329  00006/img00006329.png   2.107251 -10.254755    5.0\n",
       "2194  00007/img00007194.png   2.107384  -6.838242    5.0\n",
       "3156  00008/img00008156.png   2.107998  -8.502993    5.0\n",
       "9338  00014/img00014338.png   2.108677  -7.213866    5.0\n",
       "5175  00010/img00010175.png   2.110164  -7.742945    5.0\n",
       "9050  00014/img00014050.png   2.111569  -8.886917    5.0\n",
       "4518  00009/img00009518.png   2.112127  -7.746420    5.0\n",
       "2257  00007/img00007257.png   2.112285  -5.248363    5.0\n",
       "3388  00008/img00008388.png   2.113943  -8.047521    5.0\n",
       "7503  00012/img00012503.png   2.117067  -8.200551    5.0\n",
       "5872  00010/img00010872.png   2.119420  -6.858238    5.0\n",
       "6457  00011/img00011457.png   2.119959  -8.820003    5.0\n",
       "1477  00006/img00006477.png   2.120042  -6.402818    5.0\n",
       "2172  00007/img00007172.png   2.120220  -7.587399    5.0\n",
       "413   00005/img00005413.png   2.122095  -7.910147    5.0\n",
       "8662  00013/img00013662.png   2.122949  -6.708777    5.0\n",
       "1280  00006/img00006280.png   2.124757  -7.288334    5.0\n",
       "6914  00011/img00011914.png   2.124775  -6.582146    5.0\n",
       "5786  00010/img00010786.png   2.126274  -8.767984    5.0\n",
       "399   00005/img00005399.png   2.126712  -7.174027    5.0\n",
       "5352  00010/img00010352.png   2.132175 -10.290335    5.0"
      ]
     },
     "execution_count": 171,
     "metadata": {},
     "output_type": "execute_result"
    }
   ],
   "source": [
    "labels.iloc[500:560]"
   ]
  },
  {
   "cell_type": "code",
   "execution_count": 172,
   "metadata": {},
   "outputs": [
    {
     "data": {
      "text/html": [
       "<div>\n",
       "<style scoped>\n",
       "    .dataframe tbody tr th:only-of-type {\n",
       "        vertical-align: middle;\n",
       "    }\n",
       "\n",
       "    .dataframe tbody tr th {\n",
       "        vertical-align: top;\n",
       "    }\n",
       "\n",
       "    .dataframe thead th {\n",
       "        text-align: right;\n",
       "    }\n",
       "</style>\n",
       "<table border=\"1\" class=\"dataframe\">\n",
       "  <thead>\n",
       "    <tr style=\"text-align: right;\">\n",
       "      <th></th>\n",
       "      <th>thickness</th>\n",
       "      <th>slant</th>\n",
       "      <th>label</th>\n",
       "    </tr>\n",
       "  </thead>\n",
       "  <tbody>\n",
       "    <tr>\n",
       "      <th>count</th>\n",
       "      <td>887.000000</td>\n",
       "      <td>887.000000</td>\n",
       "      <td>887.0</td>\n",
       "    </tr>\n",
       "    <tr>\n",
       "      <th>mean</th>\n",
       "      <td>2.002516</td>\n",
       "      <td>-9.984196</td>\n",
       "      <td>5.0</td>\n",
       "    </tr>\n",
       "    <tr>\n",
       "      <th>std</th>\n",
       "      <td>0.638039</td>\n",
       "      <td>12.829474</td>\n",
       "      <td>0.0</td>\n",
       "    </tr>\n",
       "    <tr>\n",
       "      <th>min</th>\n",
       "      <td>0.537941</td>\n",
       "      <td>-38.466120</td>\n",
       "      <td>5.0</td>\n",
       "    </tr>\n",
       "    <tr>\n",
       "      <th>25%</th>\n",
       "      <td>1.553085</td>\n",
       "      <td>-19.105190</td>\n",
       "      <td>5.0</td>\n",
       "    </tr>\n",
       "    <tr>\n",
       "      <th>50%</th>\n",
       "      <td>1.927844</td>\n",
       "      <td>-11.643002</td>\n",
       "      <td>5.0</td>\n",
       "    </tr>\n",
       "    <tr>\n",
       "      <th>75%</th>\n",
       "      <td>2.392168</td>\n",
       "      <td>-2.146940</td>\n",
       "      <td>5.0</td>\n",
       "    </tr>\n",
       "    <tr>\n",
       "      <th>max</th>\n",
       "      <td>4.677262</td>\n",
       "      <td>43.639946</td>\n",
       "      <td>5.0</td>\n",
       "    </tr>\n",
       "  </tbody>\n",
       "</table>\n",
       "</div>"
      ],
      "text/plain": [
       "        thickness       slant  label\n",
       "count  887.000000  887.000000  887.0\n",
       "mean     2.002516   -9.984196    5.0\n",
       "std      0.638039   12.829474    0.0\n",
       "min      0.537941  -38.466120    5.0\n",
       "25%      1.553085  -19.105190    5.0\n",
       "50%      1.927844  -11.643002    5.0\n",
       "75%      2.392168   -2.146940    5.0\n",
       "max      4.677262   43.639946    5.0"
      ]
     },
     "execution_count": 172,
     "metadata": {},
     "output_type": "execute_result"
    }
   ],
   "source": [
    "labels.describe()"
   ]
  },
  {
   "cell_type": "code",
   "execution_count": 173,
   "metadata": {},
   "outputs": [],
   "source": [
    "ll = labels.iloc[::4]"
   ]
  },
  {
   "cell_type": "code",
   "execution_count": 174,
   "metadata": {},
   "outputs": [
    {
     "data": {
      "text/html": [
       "<div>\n",
       "<style scoped>\n",
       "    .dataframe tbody tr th:only-of-type {\n",
       "        vertical-align: middle;\n",
       "    }\n",
       "\n",
       "    .dataframe tbody tr th {\n",
       "        vertical-align: top;\n",
       "    }\n",
       "\n",
       "    .dataframe thead th {\n",
       "        text-align: right;\n",
       "    }\n",
       "</style>\n",
       "<table border=\"1\" class=\"dataframe\">\n",
       "  <thead>\n",
       "    <tr style=\"text-align: right;\">\n",
       "      <th></th>\n",
       "      <th>thickness</th>\n",
       "      <th>slant</th>\n",
       "      <th>label</th>\n",
       "    </tr>\n",
       "  </thead>\n",
       "  <tbody>\n",
       "    <tr>\n",
       "      <th>count</th>\n",
       "      <td>222.000000</td>\n",
       "      <td>222.000000</td>\n",
       "      <td>222.0</td>\n",
       "    </tr>\n",
       "    <tr>\n",
       "      <th>mean</th>\n",
       "      <td>1.998394</td>\n",
       "      <td>-9.979043</td>\n",
       "      <td>5.0</td>\n",
       "    </tr>\n",
       "    <tr>\n",
       "      <th>std</th>\n",
       "      <td>0.638476</td>\n",
       "      <td>12.866469</td>\n",
       "      <td>0.0</td>\n",
       "    </tr>\n",
       "    <tr>\n",
       "      <th>min</th>\n",
       "      <td>0.537941</td>\n",
       "      <td>-36.657917</td>\n",
       "      <td>5.0</td>\n",
       "    </tr>\n",
       "    <tr>\n",
       "      <th>25%</th>\n",
       "      <td>1.553099</td>\n",
       "      <td>-18.849373</td>\n",
       "      <td>5.0</td>\n",
       "    </tr>\n",
       "    <tr>\n",
       "      <th>50%</th>\n",
       "      <td>1.922905</td>\n",
       "      <td>-11.132686</td>\n",
       "      <td>5.0</td>\n",
       "    </tr>\n",
       "    <tr>\n",
       "      <th>75%</th>\n",
       "      <td>2.387367</td>\n",
       "      <td>-1.585661</td>\n",
       "      <td>5.0</td>\n",
       "    </tr>\n",
       "    <tr>\n",
       "      <th>max</th>\n",
       "      <td>4.211812</td>\n",
       "      <td>34.941680</td>\n",
       "      <td>5.0</td>\n",
       "    </tr>\n",
       "  </tbody>\n",
       "</table>\n",
       "</div>"
      ],
      "text/plain": [
       "        thickness       slant  label\n",
       "count  222.000000  222.000000  222.0\n",
       "mean     1.998394   -9.979043    5.0\n",
       "std      0.638476   12.866469    0.0\n",
       "min      0.537941  -36.657917    5.0\n",
       "25%      1.553099  -18.849373    5.0\n",
       "50%      1.922905  -11.132686    5.0\n",
       "75%      2.387367   -1.585661    5.0\n",
       "max      4.211812   34.941680    5.0"
      ]
     },
     "execution_count": 174,
     "metadata": {},
     "output_type": "execute_result"
    }
   ],
   "source": [
    "ll.describe()"
   ]
  },
  {
   "cell_type": "code",
   "execution_count": 175,
   "metadata": {},
   "outputs": [],
   "source": [
    "ll = ll.sort_values(by=[\"thickness\"])"
   ]
  },
  {
   "cell_type": "code",
   "execution_count": 176,
   "metadata": {},
   "outputs": [
    {
     "data": {
      "image/png": "[encoded data removed]",
      "text/plain": [
       "<Figure size 2000x4000 with 200 Axes>"
      ]
     },
     "metadata": {},
     "output_type": "display_data"
    }
   ],
   "source": [
    "ncols = 10\n",
    "nrows = 20\n",
    "plt.figure(figsize=(ncols * 2, nrows * 2))\n",
    "for i in range(nrows):\n",
    "    for j in range(ncols):\n",
    "        img_path = path + ll.iloc[i * ncols + j][\"img\"]\n",
    "        img = iio.imread(img_path)\n",
    "        plt.subplot(nrows, ncols, i * ncols + j + 1)\n",
    "        plt.imshow(img, cmap=\"gray\")\n",
    "        plt.axis(\"off\")"
   ]
  },
  {
   "cell_type": "code",
   "execution_count": 177,
   "metadata": {},
   "outputs": [],
   "source": [
    "ll_slant = np.deg2rad(ll[\"slant\"].values)"
   ]
  },
  {
   "cell_type": "code",
   "execution_count": 178,
   "metadata": {},
   "outputs": [
    {
     "data": {
      "text/plain": [
       "array([-0.63980135, -0.63569701, -0.59217058, -0.55727878, -0.57304657,\n",
       "       -0.55890651, -0.54829531, -0.48676659, -0.53362461, -0.5058527 ,\n",
       "       -0.51125371, -0.47808329, -0.50305941, -0.49120714, -0.44558361,\n",
       "       -0.4830279 , -0.47553717, -0.46135082, -0.43330446, -0.46981185,\n",
       "       -0.44237496, -0.43843758, -0.46198797, -0.42293119, -0.44978627,\n",
       "       -0.42721632, -0.42009742, -0.44508078, -0.38687188, -0.38150768,\n",
       "       -0.39379728, -0.41719516, -0.38434506, -0.37822257, -0.4067804 ,\n",
       "       -0.40009893, -0.37212148, -0.372659  , -0.36973261, -0.38604344,\n",
       "       -0.36510736, -0.3826551 , -0.38918547, -0.34809866, -0.38644914,\n",
       "       -0.36242526, -0.37715651, -0.36672024, -0.3590984 , -0.33829692,\n",
       "       -0.34887268, -0.37156311, -0.31990307, -0.35569327, -0.32293434,\n",
       "       -0.30529313, -0.32946036, -0.34449759, -0.32755338, -0.31737017,\n",
       "       -0.31792059, -0.32408354, -0.30471679, -0.32468304, -0.32653061,\n",
       "       -0.29171555, -0.33160053, -0.28682114, -0.31394461, -0.31338701,\n",
       "       -0.31181058, -0.27901825, -0.2817441 , -0.28492055, -0.28373661,\n",
       "       -0.31799974, -0.2721092 , -0.28070684, -0.31301868, -0.29505234,\n",
       "       -0.27590882, -0.25774193, -0.24463601, -0.29799254, -0.28316998,\n",
       "       -0.26920307, -0.26046505, -0.27422976, -0.24934276, -0.2491247 ,\n",
       "       -0.23074207, -0.2525334 , -0.24035118, -0.24527159, -0.22259116,\n",
       "       -0.21020419, -0.24575599, -0.21530609, -0.18792459, -0.25243547,\n",
       "       -0.23636917, -0.1899834 , -0.25794636, -0.24127315, -0.19358204,\n",
       "       -0.22069208, -0.17925933, -0.22510939, -0.16719242, -0.19696594,\n",
       "       -0.21948318, -0.20682227, -0.19855663, -0.19865357, -0.17484681,\n",
       "       -0.19502199, -0.14796291, -0.19235899, -0.18228213, -0.19548286,\n",
       "       -0.17561244, -0.18502979, -0.17984936, -0.14237122, -0.14138633,\n",
       "       -0.18645084, -0.18869558, -0.12128655, -0.15267653, -0.13134588,\n",
       "       -0.16890305, -0.12535216, -0.13940351, -0.14255289, -0.12889001,\n",
       "       -0.11934985, -0.15510596, -0.14312662, -0.13242509, -0.11488011,\n",
       "       -0.12947312, -0.14739951, -0.12214952, -0.13519176, -0.13045943,\n",
       "       -0.12761402, -0.10368572, -0.13043737, -0.09201113, -0.10442841,\n",
       "       -0.10919565, -0.11328972, -0.10664584, -0.10302131, -0.09915068,\n",
       "       -0.10378364, -0.07712775, -0.05191352, -0.06574319, -0.04660177,\n",
       "       -0.05583088, -0.02379433, -0.04948522, -0.0097905 , -0.02913181,\n",
       "       -0.0271894 , -0.03653057, -0.03118249, -0.03433724, -0.02598349,\n",
       "       -0.01902841,  0.00581659, -0.02541347, -0.01573717,  0.00578733,\n",
       "        0.03057135, -0.01406549,  0.01691398, -0.00845749,  0.01967426,\n",
       "        0.00413698, -0.00074045,  0.06326192,  0.00430498,  0.01616333,\n",
       "        0.03541958,  0.05110691,  0.05398784,  0.06863311,  0.07859733,\n",
       "        0.11196352,  0.10097951,  0.08413859,  0.09284362,  0.1078946 ,\n",
       "        0.10905115,  0.10532722,  0.07555513,  0.10641797,  0.11890761,\n",
       "        0.14805279,  0.1447762 ,  0.15810929,  0.18165888,  0.16337997,\n",
       "        0.20064818,  0.21724317,  0.19690927,  0.20281969,  0.25726699,\n",
       "        0.2236689 ,  0.25816186,  0.2329977 ,  0.27121532,  0.30834552,\n",
       "        0.30304099,  0.34394315,  0.35626441,  0.35720837,  0.41008909,\n",
       "        0.40208173,  0.60984736])"
      ]
     },
     "execution_count": 178,
     "metadata": {},
     "output_type": "execute_result"
    }
   ],
   "source": [
    "ll_slant"
   ]
  },
  {
   "cell_type": "code",
   "execution_count": 179,
   "metadata": {},
   "outputs": [
    {
     "data": {
      "text/plain": [
       "array([-36.657917  , -36.422756  , -33.928875  , -31.929722  ,\n",
       "       -32.83315   , -32.022984  , -31.415007  , -27.889671  ,\n",
       "       -30.574438  , -28.983225  , -29.29268   , -27.392155  ,\n",
       "       -28.823181  , -28.144096  , -25.53006   , -27.67546   ,\n",
       "       -27.246273  , -26.433455  , -24.826517  , -26.918236  ,\n",
       "       -25.346218  , -25.120623  , -26.469961  , -24.232172  ,\n",
       "       -25.770855  , -24.477692  , -24.069809  , -25.50125   ,\n",
       "       -22.166126  , -21.85878   , -22.562922  , -23.903522  ,\n",
       "       -22.02135   , -21.670557  , -23.3068    , -22.92398   ,\n",
       "       -21.32099   , -21.351788  , -21.184118  , -22.11866   ,\n",
       "       -20.919111  , -21.924522  , -22.298685  , -19.944584  ,\n",
       "       -22.141905  , -20.765438  , -21.609476  , -21.011522  ,\n",
       "       -20.574823  , -19.382986  , -19.988932  , -21.288998  ,\n",
       "       -18.329096  , -20.379723  , -18.502775  , -17.492008  ,\n",
       "       -18.876688  , -19.738258  , -18.767426  , -18.183971  ,\n",
       "       -18.215508  , -18.568619  , -17.458986  , -18.602968  ,\n",
       "       -18.708826  , -16.71407   , -18.999311  , -16.433641  ,\n",
       "       -17.987701  , -17.955753  , -17.86543   , -15.986568  ,\n",
       "       -16.142748  , -16.324745  , -16.25691   , -18.220043  ,\n",
       "       -15.590709  , -16.083317  , -17.934649  , -16.905254  ,\n",
       "       -15.808411  , -14.767525  , -14.016611  , -17.073715  ,\n",
       "       -16.224445  , -15.4242    , -14.923548  , -15.712208  ,\n",
       "       -14.286288  , -14.273794  , -13.220547  , -14.469098  ,\n",
       "       -13.771108  , -14.053027  , -12.753534  , -12.043813  ,\n",
       "       -14.080781  , -12.33613   , -10.767286  , -14.463487  ,\n",
       "       -13.542956  , -10.885247  , -14.779238  , -13.823933  ,\n",
       "       -11.091434  , -12.644725  , -10.270803  , -12.897818  ,\n",
       "        -9.57942   , -11.285317  , -12.57546   , -11.850043  ,\n",
       "       -11.376457  , -11.382011  , -10.017984  , -11.173937  ,\n",
       "        -8.47765   , -11.021358  , -10.443997  , -11.200343  ,\n",
       "       -10.0618515 , -10.601426  , -10.304609  ,  -8.15727   ,\n",
       "        -8.10084   , -10.682846  , -10.8114605 ,  -6.9492073 ,\n",
       "        -8.747721  ,  -7.5255647 ,  -9.677432  ,  -7.18215   ,\n",
       "        -7.987233  ,  -8.167679  ,  -7.3848534 ,  -6.8382425 ,\n",
       "        -8.886917  ,  -8.200551  ,  -7.587399  ,  -6.5821457 ,\n",
       "        -7.4182634 ,  -8.44537   ,  -6.998652  ,  -7.7459173 ,\n",
       "        -7.474775  ,  -7.311745  ,  -5.940754  ,  -7.4735107 ,\n",
       "        -5.2718496 ,  -5.983307  ,  -6.2564497 ,  -6.491023  ,\n",
       "        -6.1103563 ,  -5.902686  ,  -5.6809154 ,  -5.9463644 ,\n",
       "        -4.4190946 ,  -2.9744258 ,  -3.7668073 ,  -2.6700845 ,\n",
       "        -3.1988738 ,  -1.3633149 ,  -2.8352942 ,  -0.56095433,\n",
       "        -1.6691298 ,  -1.5578377 ,  -2.0930474 ,  -1.7866253 ,\n",
       "        -1.9673791 ,  -1.4887444 ,  -1.0902473 ,   0.33326614,\n",
       "        -1.4560847 ,  -0.90167344,   0.33158952,   1.7516091 ,\n",
       "        -0.80589336,   0.9690995 ,  -0.48457825,   1.1272521 ,\n",
       "         0.2370317 ,  -0.04242444,   3.624641  ,   0.24665713,\n",
       "         0.92609036,   2.0293922 ,   2.9282103 ,   3.0932755 ,\n",
       "         3.9323874 ,   4.5032954 ,   6.415037  ,   5.7857    ,\n",
       "         4.820786  ,   5.3195477 ,   6.1819053 ,   6.2481704 ,\n",
       "         6.034805  ,   4.32899   ,   6.0973005 ,   6.8129044 ,\n",
       "         8.4828    ,   8.295065  ,   9.058995  ,  10.408287  ,\n",
       "         9.360983  ,  11.496294  ,  12.447117  ,  11.28207   ,\n",
       "        11.620712  ,  14.740313  ,  12.815284  ,  14.791585  ,\n",
       "        13.349785  ,  15.539493  ,  17.666897  ,  17.36297   ,\n",
       "        19.706491  ,  20.412447  ,  20.466532  ,  23.496374  ,\n",
       "        23.037586  ,  34.94168   ])"
      ]
     },
     "execution_count": 179,
     "metadata": {},
     "output_type": "execute_result"
    }
   ],
   "source": [
    "ll[\"slant\"].values"
   ]
  },
  {
   "cell_type": "code",
   "execution_count": 6,
   "metadata": {},
   "outputs": [],
   "source": [
    "sys.path.append(\"/dhc/home/wei-cheng.lai/projects/causal_gans/stylegan3/\")\n",
    "from metrics import metric_main\n",
    "from morphoswithmnist.morphomnist import io, measure\n",
    "from morphoswithmnist.morphomnist.morpho import ImageMorphology, ImageMoments\n",
    "\n",
    "image_path = \"/dhc/home/wei-cheng.lai/data/MNIST/raw/t10k-images-idx3-ubyte.gz\"\n",
    "images = io.load_idx(image_path)"
   ]
  },
  {
   "cell_type": "code",
   "execution_count": 20,
   "metadata": {},
   "outputs": [],
   "source": [
    "deg = []\n",
    "rad = []\n",
    "for i in np.arange(-180, 190, 10):\n",
    "    deg.append(i)\n",
    "    rad.append(np.deg2rad(i))"
   ]
  },
  {
   "cell_type": "code",
   "execution_count": 29,
   "metadata": {},
   "outputs": [
    {
     "name": "stdout",
     "output_type": "stream",
     "text": [
      "[-1.56524083 -1.56491404 -1.56454641 -1.56412976 -1.56365359 -1.56310417\n",
      " -1.56246319 -1.56170567 -1.56079666 -1.55968567 -1.55829698 -1.55651158\n",
      " -1.5541312  -1.55079899 -1.54580153 -1.53747533 -1.52083793 -1.47112767\n",
      "  0.          1.47112767  1.52083793  1.53747533  1.54580153  1.55079899\n",
      "  1.5541312   1.55651158  1.55829698  1.55968567  1.56079666  1.56170567\n",
      "  1.56246319  1.56310417  1.56365359  1.56412976  1.56454641  1.56491404\n",
      "  1.56524083]\n",
      "[-1.26262726 -1.24571888 -1.226925   -1.20592739 -1.18233656 -1.15567236\n",
      " -1.12533883 -1.09059189 -1.05049817 -1.00388482 -0.94928224 -0.88486958\n",
      " -0.80844879 -0.71750578 -0.60947097 -0.48234791 -0.33584237 -0.17279243\n",
      "  0.          0.17279243  0.33584237  0.48234791  0.60947097  0.71750578\n",
      "  0.80844879  0.88486958  0.94928224  1.00388482  1.05049817  1.09059189\n",
      "  1.12533883  1.15567236  1.18233656  1.20592739  1.226925    1.24571888\n",
      "  1.26262726]\n"
     ]
    }
   ],
   "source": [
    "angle = np.arctan(deg)\n",
    "print(angle)\n",
    "print(np.arctan(rad))"
   ]
  },
  {
   "cell_type": "code",
   "execution_count": 23,
   "metadata": {},
   "outputs": [],
   "source": [
    "tans = -np.tan(rad)"
   ]
  },
  {
   "cell_type": "code",
   "execution_count": 24,
   "metadata": {},
   "outputs": [
    {
     "data": {
      "text/plain": [
       "array([-1.22464680e-16, -1.76326981e-01, -3.63970234e-01, -5.77350269e-01,\n",
       "       -8.39099631e-01, -1.19175359e+00, -1.73205081e+00, -2.74747742e+00,\n",
       "       -5.67128182e+00,  1.63312394e+16,  5.67128182e+00,  2.74747742e+00,\n",
       "        1.73205081e+00,  1.19175359e+00,  8.39099631e-01,  5.77350269e-01,\n",
       "        3.63970234e-01,  1.76326981e-01, -0.00000000e+00, -1.76326981e-01,\n",
       "       -3.63970234e-01, -5.77350269e-01, -8.39099631e-01, -1.19175359e+00,\n",
       "       -1.73205081e+00, -2.74747742e+00, -5.67128182e+00, -1.63312394e+16,\n",
       "        5.67128182e+00,  2.74747742e+00,  1.73205081e+00,  1.19175359e+00,\n",
       "        8.39099631e-01,  5.77350269e-01,  3.63970234e-01,  1.76326981e-01,\n",
       "        1.22464680e-16])"
      ]
     },
     "execution_count": 24,
     "metadata": {},
     "output_type": "execute_result"
    }
   ],
   "source": [
    "tans"
   ]
  },
  {
   "cell_type": "code",
   "execution_count": 41,
   "metadata": {},
   "outputs": [
    {
     "name": "stdout",
     "output_type": "stream",
     "text": [
      "0 before:\n",
      "Area: 71.1\n",
      "Length: 34.3\n",
      "Thickness: 2.15\n",
      "Slant: 4°\n",
      "Dimensions: 15.1 x 19.6\n",
      "0 after:\n",
      "Area: 60.4\n",
      "Length: 45.9\n",
      "Thickness: 1.52\n",
      "Slant: 52°\n",
      "Dimensions: 14.8 x 17.0\n"
     ]
    },
    {
     "data": {
      "image/png": "[encoded data removed]",
      "text/plain": [
       "<Figure size 640x480 with 2 Axes>"
      ]
     },
     "metadata": {},
     "output_type": "display_data"
    },
    {
     "name": "stdout",
     "output_type": "stream",
     "text": [
      "\n",
      "1 before:\n",
      "Area: 112.8\n",
      "Length: 46.0\n",
      "Thickness: 2.57\n",
      "Slant: -10°\n",
      "Dimensions: 17.6 x 19.9\n",
      "1 after:\n",
      "Area: 89.8\n",
      "Length: 59.7\n",
      "Thickness: 1.78\n",
      "Slant: 52°\n",
      "Dimensions: 17.1 x 18.7\n"
     ]
    },
    {
     "data": {
      "image/png": "[encoded data removed]",
      "text/plain": [
       "<Figure size 640x480 with 2 Axes>"
      ]
     },
     "metadata": {},
     "output_type": "display_data"
    },
    {
     "name": "stdout",
     "output_type": "stream",
     "text": [
      "\n",
      "2 before:\n",
      "Area: 39.1\n",
      "Length: 23.4\n",
      "Thickness: 1.83\n",
      "Slant: 17°\n",
      "Dimensions: 3.7 x 19.7\n",
      "2 after:\n",
      "Area: 43.2\n",
      "Length: 35.6\n",
      "Thickness: 1.35\n",
      "Slant: 56°\n",
      "Dimensions: 5.1 x 18.3\n"
     ]
    },
    {
     "data": {
      "image/png": "[encoded data removed]",
      "text/plain": [
       "<Figure size 640x480 with 2 Axes>"
      ]
     },
     "metadata": {},
     "output_type": "display_data"
    },
    {
     "name": "stdout",
     "output_type": "stream",
     "text": [
      "\n",
      "3 before:\n",
      "Area: 146.9\n",
      "Length: 45.1\n",
      "Thickness: 3.49\n",
      "Slant: 4°\n",
      "Dimensions: 14.7 x 19.0\n",
      "3 after:\n",
      "Area: 139.3\n",
      "Length: 65.9\n",
      "Thickness: 2.55\n",
      "Slant: 55°\n",
      "Dimensions: 15.5 x 17.8\n"
     ]
    },
    {
     "data": {
      "image/png": "[encoded data removed]",
      "text/plain": [
       "<Figure size 640x480 with 2 Axes>"
      ]
     },
     "metadata": {},
     "output_type": "display_data"
    },
    {
     "name": "stdout",
     "output_type": "stream",
     "text": [
      "\n",
      "4 before:\n",
      "Area: 75.1\n",
      "Length: 43.1\n",
      "Thickness: 1.96\n",
      "Slant: -7°\n",
      "Dimensions: 15.0 x 18.8\n",
      "4 after:\n",
      "Area: 64.2\n",
      "Length: 61.1\n",
      "Thickness: 1.25\n",
      "Slant: 51°\n",
      "Dimensions: 15.8 x 18.5\n"
     ]
    },
    {
     "data": {
      "image/png": "[encoded data removed]",
      "text/plain": [
       "<Figure size 640x480 with 2 Axes>"
      ]
     },
     "metadata": {},
     "output_type": "display_data"
    },
    {
     "name": "stdout",
     "output_type": "stream",
     "text": [
      "\n",
      "5 before:\n",
      "Area: 53.8\n",
      "Length: 23.3\n",
      "Thickness: 2.51\n",
      "Slant: 17°\n",
      "Dimensions: 4.5 x 19.3\n",
      "5 after:\n",
      "Area: 54.9\n",
      "Length: 33.0\n",
      "Thickness: 1.76\n",
      "Slant: 56°\n",
      "Dimensions: 5.6 x 18.7\n"
     ]
    },
    {
     "data": {
      "image/png": "[encoded data removed]",
      "text/plain": [
       "<Figure size 640x480 with 2 Axes>"
      ]
     },
     "metadata": {},
     "output_type": "display_data"
    },
    {
     "name": "stdout",
     "output_type": "stream",
     "text": [
      "\n",
      "6 before:\n",
      "Area: 83.1\n",
      "Length: 43.4\n",
      "Thickness: 2.09\n",
      "Slant: -5°\n",
      "Dimensions: 16.7 x 19.1\n",
      "6 after:\n",
      "Area: 71.1\n",
      "Length: 58.6\n",
      "Thickness: 1.44\n",
      "Slant: 51°\n",
      "Dimensions: 15.2 x 18.4\n"
     ]
    },
    {
     "data": {
      "image/png": "[encoded data removed]",
      "text/plain": [
       "<Figure size 640x480 with 2 Axes>"
      ]
     },
     "metadata": {},
     "output_type": "display_data"
    },
    {
     "name": "stdout",
     "output_type": "stream",
     "text": [
      "\n",
      "7 before:\n",
      "Area: 83.1\n",
      "Length: 39.3\n",
      "Thickness: 2.41\n",
      "Slant: -29°\n",
      "Dimensions: 10.9 x 18.8\n",
      "7 after:\n",
      "Area: 80.3\n",
      "Length: 59.5\n",
      "Thickness: 1.62\n",
      "Slant: 55°\n",
      "Dimensions: 11.7 x 17.7\n"
     ]
    },
    {
     "data": {
      "image/png": "[encoded data removed]",
      "text/plain": [
       "<Figure size 640x480 with 2 Axes>"
      ]
     },
     "metadata": {},
     "output_type": "display_data"
    },
    {
     "name": "stdout",
     "output_type": "stream",
     "text": [
      "\n",
      "8 before:\n",
      "Area: 121.1\n",
      "Length: 40.4\n",
      "Thickness: 3.13\n",
      "Slant: 15°\n",
      "Dimensions: 17.3 x 18.5\n",
      "8 after:\n",
      "Area: 100.1\n",
      "Length: 41.6\n",
      "Thickness: 2.85\n",
      "Slant: 48°\n",
      "Dimensions: 15.1 x 17.5\n"
     ]
    },
    {
     "data": {
      "image/png": "[encoded data removed]",
      "text/plain": [
       "<Figure size 640x480 with 2 Axes>"
      ]
     },
     "metadata": {},
     "output_type": "display_data"
    },
    {
     "name": "stdout",
     "output_type": "stream",
     "text": [
      "\n",
      "9 before:\n",
      "Area: 125.2\n",
      "Length: 51.8\n",
      "Thickness: 2.78\n",
      "Slant: 17°\n",
      "Dimensions: 15.2 x 19.0\n",
      "9 after:\n",
      "Area: 118.6\n",
      "Length: 57.7\n",
      "Thickness: 2.41\n",
      "Slant: 54°\n",
      "Dimensions: 15.7 x 16.8\n"
     ]
    },
    {
     "data": {
      "image/png": "[encoded data removed]",
      "text/plain": [
       "<Figure size 640x480 with 2 Axes>"
      ]
     },
     "metadata": {},
     "output_type": "display_data"
    },
    {
     "name": "stdout",
     "output_type": "stream",
     "text": [
      "\n",
      "10 before:\n",
      "Area: 118.2\n",
      "Length: 54.1\n",
      "Thickness: 2.37\n",
      "Slant: 7°\n",
      "Dimensions: 16.1 x 19.6\n",
      "10 after:\n",
      "Area: 92.8\n",
      "Length: 69.6\n",
      "Thickness: 1.56\n",
      "Slant: 51°\n",
      "Dimensions: 17.5 x 19.0\n"
     ]
    },
    {
     "data": {
      "image/png": "[encoded data removed]",
      "text/plain": [
       "<Figure size 640x480 with 2 Axes>"
      ]
     },
     "metadata": {},
     "output_type": "display_data"
    },
    {
     "name": "stdout",
     "output_type": "stream",
     "text": [
      "\n",
      "11 before:\n",
      "Area: 110.6\n",
      "Length: 57.0\n",
      "Thickness: 2.07\n",
      "Slant: -2°\n",
      "Dimensions: 16.2 x 19.4\n",
      "11 after:\n",
      "Area: 101.1\n",
      "Length: 88.7\n",
      "Thickness: 1.34\n",
      "Slant: 55°\n",
      "Dimensions: 17.2 x 18.3\n"
     ]
    },
    {
     "data": {
      "image/png": "[encoded data removed]",
      "text/plain": [
       "<Figure size 640x480 with 2 Axes>"
      ]
     },
     "metadata": {},
     "output_type": "display_data"
    },
    {
     "name": "stdout",
     "output_type": "stream",
     "text": [
      "\n",
      "12 before:\n",
      "Area: 90.2\n",
      "Length: 43.0\n",
      "Thickness: 2.28\n",
      "Slant: 4°\n",
      "Dimensions: 12.5 x 19.4\n",
      "12 after:\n",
      "Area: 86.7\n",
      "Length: 63.7\n",
      "Thickness: 1.68\n",
      "Slant: 55°\n",
      "Dimensions: 12.9 x 17.6\n"
     ]
    },
    {
     "data": {
      "image/png": "[encoded data removed]",
      "text/plain": [
       "<Figure size 640x480 with 2 Axes>"
      ]
     },
     "metadata": {},
     "output_type": "display_data"
    },
    {
     "name": "stdout",
     "output_type": "stream",
     "text": [
      "\n",
      "13 before:\n",
      "Area: 116.2\n",
      "Length: 51.0\n",
      "Thickness: 2.48\n",
      "Slant: 2°\n",
      "Dimensions: 14.9 x 19.5\n",
      "13 after:\n",
      "Area: 102.9\n",
      "Length: 70.9\n",
      "Thickness: 1.72\n",
      "Slant: 53°\n",
      "Dimensions: 15.9 x 18.8\n"
     ]
    },
    {
     "data": {
      "image/png": "[encoded data removed]",
      "text/plain": [
       "<Figure size 640x480 with 2 Axes>"
      ]
     },
     "metadata": {},
     "output_type": "display_data"
    },
    {
     "name": "stdout",
     "output_type": "stream",
     "text": [
      "\n",
      "14 before:\n",
      "Area: 63.1\n",
      "Length: 21.0\n",
      "Thickness: 3.07\n",
      "Slant: 2°\n",
      "Dimensions: 5.2 x 19.5\n",
      "14 after:\n",
      "Area: 60.4\n",
      "Length: 34.8\n",
      "Thickness: 1.87\n",
      "Slant: 55°\n",
      "Dimensions: 6.0 x 18.3\n"
     ]
    },
    {
     "data": {
      "image/png": "[encoded data removed]",
      "text/plain": [
       "<Figure size 640x480 with 2 Axes>"
      ]
     },
     "metadata": {},
     "output_type": "display_data"
    },
    {
     "name": "stdout",
     "output_type": "stream",
     "text": [
      "\n"
     ]
    }
   ],
   "source": [
    "from morphoswithmnist.morphomnist.transforms import SetThickness, SetSlant\n",
    "pert = SetSlant(np.deg2rad(56))\n",
    "for n in range(15):\n",
    "    print(n, \"before:\")\n",
    "    measure.measure_image(images[n], verbose=True)\n",
    "\n",
    "    morph = ImageMorphology(images[n], scale=16)\n",
    "    pert_hires_image = pert(morph)\n",
    "    pert_image = morph.downscale(pert_hires_image)\n",
    "\n",
    "    print(n, \"after:\")\n",
    "    measure.measure_image(pert_image, verbose=True)\n",
    "\n",
    "    fig, (ax1, ax2) = plt.subplots(1, 2)\n",
    "    ax1.imshow(images[n], cmap='gray_r')\n",
    "    ax2.imshow(pert_image, cmap='gray_r')\n",
    "    ax1.axis('off')\n",
    "    ax2.axis('off')\n",
    "    plt.show()\n",
    "    print()"
   ]
  },
  {
   "cell_type": "code",
   "execution_count": null,
   "metadata": {},
   "outputs": [],
   "source": []
  }
 ],
 "metadata": {
  "kernelspec": {
   "display_name": "stylegan3_test",
   "language": "python",
   "name": "python3"
  },
  "language_info": {
   "codemirror_mode": {
    "name": "ipython",
    "version": 3
   },
   "file_extension": ".py",
   "mimetype": "text/x-python",
   "name": "python",
   "nbconvert_exporter": "python",
   "pygments_lexer": "ipython3",
   "version": "3.9.15"
  },
  "orig_nbformat": 4
 },
 "nbformat": 4,
 "nbformat_minor": 2
}

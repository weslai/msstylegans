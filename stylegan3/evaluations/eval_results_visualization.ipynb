{
 "cells": [
  {
   "cell_type": "code",
   "execution_count": 40,
   "metadata": {},
   "outputs": [],
   "source": [
    "import numpy as np\n",
    "import matplotlib.pyplot as plt\n",
    "import seaborn as sns\n",
    "import pandas as pd"
   ]
  },
  {
   "cell_type": "code",
   "execution_count": 41,
   "metadata": {},
   "outputs": [],
   "source": [
    "ms_path = \"/dhc/home/wei-cheng.lai/experiments/multisources/retinal/fids/ms_stratified_fid.csv\"\n",
    "source1_path = \"/dhc/home/wei-cheng.lai/experiments/singlesource/retinal/fids/source1/ms_stratified_fid.csv\"\n",
    "source2_path = \"/dhc/home/wei-cheng.lai/experiments/singlesource/retinal/fids/source2/ms_stratified_fid.csv\""
   ]
  },
  {
   "cell_type": "code",
   "execution_count": 112,
   "metadata": {},
   "outputs": [],
   "source": [
    "ms_df = pd.read_csv(ms_path)\n",
    "source1_df = pd.read_csv(source1_path)\n",
    "source2_df = pd.read_csv(source2_path)"
   ]
  },
  {
   "cell_type": "code",
   "execution_count": 113,
   "metadata": {},
   "outputs": [
    {
     "data": {
      "text/html": [
       "<div>\n",
       "<style scoped>\n",
       "    .dataframe tbody tr th:only-of-type {\n",
       "        vertical-align: middle;\n",
       "    }\n",
       "\n",
       "    .dataframe tbody tr th {\n",
       "        vertical-align: top;\n",
       "    }\n",
       "\n",
       "    .dataframe thead th {\n",
       "        text-align: right;\n",
       "    }\n",
       "</style>\n",
       "<table border=\"1\" class=\"dataframe\">\n",
       "  <thead>\n",
       "    <tr style=\"text-align: right;\">\n",
       "      <th></th>\n",
       "      <th>c1_min</th>\n",
       "      <th>c1_max</th>\n",
       "      <th>c2_min</th>\n",
       "      <th>c2_max</th>\n",
       "      <th>c3_min</th>\n",
       "      <th>c3_max</th>\n",
       "      <th>fid_score</th>\n",
       "    </tr>\n",
       "  </thead>\n",
       "  <tbody>\n",
       "    <tr>\n",
       "      <th>0</th>\n",
       "      <td>40.0</td>\n",
       "      <td>50.0</td>\n",
       "      <td>65.000000</td>\n",
       "      <td>122.833336</td>\n",
       "      <td>0.006667</td>\n",
       "      <td>3.574444</td>\n",
       "      <td>13.921998</td>\n",
       "    </tr>\n",
       "    <tr>\n",
       "      <th>1</th>\n",
       "      <td>40.0</td>\n",
       "      <td>50.0</td>\n",
       "      <td>65.000000</td>\n",
       "      <td>122.833336</td>\n",
       "      <td>3.574444</td>\n",
       "      <td>7.142222</td>\n",
       "      <td>62.518330</td>\n",
       "    </tr>\n",
       "    <tr>\n",
       "      <th>2</th>\n",
       "      <td>40.0</td>\n",
       "      <td>50.0</td>\n",
       "      <td>122.833336</td>\n",
       "      <td>180.666670</td>\n",
       "      <td>0.006667</td>\n",
       "      <td>3.574444</td>\n",
       "      <td>13.090489</td>\n",
       "    </tr>\n",
       "    <tr>\n",
       "      <th>3</th>\n",
       "      <td>40.0</td>\n",
       "      <td>50.0</td>\n",
       "      <td>122.833336</td>\n",
       "      <td>180.666670</td>\n",
       "      <td>3.574444</td>\n",
       "      <td>7.142222</td>\n",
       "      <td>49.268530</td>\n",
       "    </tr>\n",
       "    <tr>\n",
       "      <th>4</th>\n",
       "      <td>50.0</td>\n",
       "      <td>60.0</td>\n",
       "      <td>65.000000</td>\n",
       "      <td>122.833336</td>\n",
       "      <td>0.006667</td>\n",
       "      <td>3.574444</td>\n",
       "      <td>15.148872</td>\n",
       "    </tr>\n",
       "    <tr>\n",
       "      <th>5</th>\n",
       "      <td>50.0</td>\n",
       "      <td>60.0</td>\n",
       "      <td>65.000000</td>\n",
       "      <td>122.833336</td>\n",
       "      <td>3.574444</td>\n",
       "      <td>7.142222</td>\n",
       "      <td>70.164320</td>\n",
       "    </tr>\n",
       "    <tr>\n",
       "      <th>6</th>\n",
       "      <td>50.0</td>\n",
       "      <td>60.0</td>\n",
       "      <td>122.833336</td>\n",
       "      <td>180.666670</td>\n",
       "      <td>0.006667</td>\n",
       "      <td>3.574444</td>\n",
       "      <td>13.063703</td>\n",
       "    </tr>\n",
       "    <tr>\n",
       "      <th>7</th>\n",
       "      <td>50.0</td>\n",
       "      <td>60.0</td>\n",
       "      <td>122.833336</td>\n",
       "      <td>180.666670</td>\n",
       "      <td>3.574444</td>\n",
       "      <td>7.142222</td>\n",
       "      <td>45.657806</td>\n",
       "    </tr>\n",
       "  </tbody>\n",
       "</table>\n",
       "</div>"
      ],
      "text/plain": [
       "   c1_min  c1_max      c2_min      c2_max    c3_min    c3_max  fid_score\n",
       "0    40.0    50.0   65.000000  122.833336  0.006667  3.574444  13.921998\n",
       "1    40.0    50.0   65.000000  122.833336  3.574444  7.142222  62.518330\n",
       "2    40.0    50.0  122.833336  180.666670  0.006667  3.574444  13.090489\n",
       "3    40.0    50.0  122.833336  180.666670  3.574444  7.142222  49.268530\n",
       "4    50.0    60.0   65.000000  122.833336  0.006667  3.574444  15.148872\n",
       "5    50.0    60.0   65.000000  122.833336  3.574444  7.142222  70.164320\n",
       "6    50.0    60.0  122.833336  180.666670  0.006667  3.574444  13.063703\n",
       "7    50.0    60.0  122.833336  180.666670  3.574444  7.142222  45.657806"
      ]
     },
     "execution_count": 113,
     "metadata": {},
     "output_type": "execute_result"
    }
   ],
   "source": [
    "ms_df"
   ]
  },
  {
   "cell_type": "code",
   "execution_count": 123,
   "metadata": {},
   "outputs": [],
   "source": [
    "vmin = min(ms_df[\"fid_score\"].min(), source1_df[\"fid_score\"].min(), source2_df[\"fid_score\"].min())\n",
    "vmax = max(ms_df[\"fid_score\"].max(), source1_df[\"fid_score\"].max(), source2_df[\"fid_score\"].max())"
   ]
  },
  {
   "cell_type": "code",
   "execution_count": 124,
   "metadata": {},
   "outputs": [
    {
     "name": "stdout",
     "output_type": "stream",
     "text": [
      "age: 40.0\n",
      "age: 50.0\n",
      "age: 40.0\n",
      "age: 50.0\n",
      "age: 40.0\n",
      "age: 50.0\n"
     ]
    }
   ],
   "source": [
    "## take out the ages (grouped by age)\n",
    "ms_age_dfs = []\n",
    "for c1 in ms_df[\"c1_min\"].unique():\n",
    "    print(f\"age: {c1}\")\n",
    "    cur_df = ms_df.loc[ms_df[\"c1_min\"] == c1].drop(columns=[\"c1_min\", \"c1_max\",\"c2_max\", \"c3_max\"])\n",
    "    ms_age_dfs.append(cur_df)\n",
    "    # plt.figure(figsize=(10,5))\n",
    "    # sns.heatmap(data=cur_df[\"num_samples\"])\n",
    "    # plt.ylim(0, 100)\n",
    "    # plt.show()\n",
    "source1_age_df = []\n",
    "for c1 in source1_df[\"c1_min\"].unique():\n",
    "    print(f\"age: {c1}\")\n",
    "    cur_df = source1_df.loc[source1_df[\"c1_min\"] == c1].drop(columns=[\"c1_min\", \"c1_max\",\"c2_max\", \"c3_max\"])\n",
    "    source1_age_df.append(cur_df)\n",
    "\n",
    "source2_age_df = []\n",
    "for c1 in source2_df[\"c1_min\"].unique():\n",
    "    print(f\"age: {c1}\")\n",
    "    cur_df = source2_df.loc[source2_df[\"c1_min\"] == c1].drop(columns=[\"c1_min\", \"c1_max\",\"c2_max\", \"c3_max\"])\n",
    "    source2_age_df.append(cur_df)\n"
   ]
  },
  {
   "cell_type": "code",
   "execution_count": 160,
   "metadata": {},
   "outputs": [],
   "source": [
    "cur = ms_age_dfs[0]"
   ]
  },
  {
   "cell_type": "code",
   "execution_count": 161,
   "metadata": {},
   "outputs": [
    {
     "data": {
      "text/html": [
       "<div>\n",
       "<style scoped>\n",
       "    .dataframe tbody tr th:only-of-type {\n",
       "        vertical-align: middle;\n",
       "    }\n",
       "\n",
       "    .dataframe tbody tr th {\n",
       "        vertical-align: top;\n",
       "    }\n",
       "\n",
       "    .dataframe thead th {\n",
       "        text-align: right;\n",
       "    }\n",
       "</style>\n",
       "<table border=\"1\" class=\"dataframe\">\n",
       "  <thead>\n",
       "    <tr style=\"text-align: right;\">\n",
       "      <th></th>\n",
       "      <th>c2_min</th>\n",
       "      <th>c3_min</th>\n",
       "      <th>fid_score</th>\n",
       "    </tr>\n",
       "  </thead>\n",
       "  <tbody>\n",
       "    <tr>\n",
       "      <th>0</th>\n",
       "      <td>65.000000</td>\n",
       "      <td>0.006667</td>\n",
       "      <td>13.921998</td>\n",
       "    </tr>\n",
       "    <tr>\n",
       "      <th>1</th>\n",
       "      <td>65.000000</td>\n",
       "      <td>3.574444</td>\n",
       "      <td>62.518330</td>\n",
       "    </tr>\n",
       "    <tr>\n",
       "      <th>2</th>\n",
       "      <td>122.833336</td>\n",
       "      <td>0.006667</td>\n",
       "      <td>13.090489</td>\n",
       "    </tr>\n",
       "    <tr>\n",
       "      <th>3</th>\n",
       "      <td>122.833336</td>\n",
       "      <td>3.574444</td>\n",
       "      <td>49.268530</td>\n",
       "    </tr>\n",
       "  </tbody>\n",
       "</table>\n",
       "</div>"
      ],
      "text/plain": [
       "       c2_min    c3_min  fid_score\n",
       "0   65.000000  0.006667  13.921998\n",
       "1   65.000000  3.574444  62.518330\n",
       "2  122.833336  0.006667  13.090489\n",
       "3  122.833336  3.574444  49.268530"
      ]
     },
     "execution_count": 161,
     "metadata": {},
     "output_type": "execute_result"
    }
   ],
   "source": [
    "cur"
   ]
  },
  {
   "cell_type": "code",
   "execution_count": 162,
   "metadata": {},
   "outputs": [],
   "source": [
    "cur.index = np.arange(len(cur))"
   ]
  },
  {
   "cell_type": "code",
   "execution_count": 163,
   "metadata": {},
   "outputs": [],
   "source": [
    "score = np.zeros((int(len(cur)/2), int(len(cur)/2)))\n",
    "num = 0\n",
    "for i in range(int(cur.shape[0] / 2)):\n",
    "    for j in range(int(cur.shape[0] / 2)):\n",
    "        score[i, j] = cur[\"fid_score\"][num]\n",
    "        num += 1"
   ]
  },
  {
   "cell_type": "code",
   "execution_count": 164,
   "metadata": {},
   "outputs": [],
   "source": [
    "score\n",
    "score = pd.DataFrame(score, columns=cur[\"c2_min\"].unique(), index=cur[\"c3_min\"].unique())"
   ]
  },
  {
   "cell_type": "code",
   "execution_count": 165,
   "metadata": {},
   "outputs": [
    {
     "data": {
      "text/html": [
       "<div>\n",
       "<style scoped>\n",
       "    .dataframe tbody tr th:only-of-type {\n",
       "        vertical-align: middle;\n",
       "    }\n",
       "\n",
       "    .dataframe tbody tr th {\n",
       "        vertical-align: top;\n",
       "    }\n",
       "\n",
       "    .dataframe thead th {\n",
       "        text-align: right;\n",
       "    }\n",
       "</style>\n",
       "<table border=\"1\" class=\"dataframe\">\n",
       "  <thead>\n",
       "    <tr style=\"text-align: right;\">\n",
       "      <th></th>\n",
       "      <th>65.000000</th>\n",
       "      <th>122.833336</th>\n",
       "    </tr>\n",
       "  </thead>\n",
       "  <tbody>\n",
       "    <tr>\n",
       "      <th>0.006667</th>\n",
       "      <td>13.921998</td>\n",
       "      <td>62.51833</td>\n",
       "    </tr>\n",
       "    <tr>\n",
       "      <th>3.574444</th>\n",
       "      <td>13.090489</td>\n",
       "      <td>49.26853</td>\n",
       "    </tr>\n",
       "  </tbody>\n",
       "</table>\n",
       "</div>"
      ],
      "text/plain": [
       "          65.000000   122.833336\n",
       "0.006667   13.921998    62.51833\n",
       "3.574444   13.090489    49.26853"
      ]
     },
     "execution_count": 165,
     "metadata": {},
     "output_type": "execute_result"
    }
   ],
   "source": [
    "score"
   ]
  },
  {
   "cell_type": "code",
   "execution_count": 166,
   "metadata": {},
   "outputs": [
    {
     "data": {
      "image/png": "[encoded data removed]",
      "text/plain": [
       "<Figure size 900x600 with 2 Axes>"
      ]
     },
     "metadata": {},
     "output_type": "display_data"
    }
   ],
   "source": [
    "# for df in ms_age_dfs:\n",
    "save_path = \"/dhc/home/wei-cheng.lai/experiments/multisources/retinal/plots/heatmap0.png\"\n",
    "plt.figure(figsize=(9,6))\n",
    "ax = sns.heatmap(data=score, annot=True, cmap=\"crest\", vmin=vmin, vmax=vmax)\n",
    "ax.set(xlabel=\"systolic bp\", ylabel=\"cylindrical power\")\n",
    "plt.savefig(save_path)\n",
    "plt.show()"
   ]
  },
  {
   "cell_type": "code",
   "execution_count": null,
   "metadata": {},
   "outputs": [],
   "source": []
  }
 ],
 "metadata": {
  "kernelspec": {
   "display_name": "stylegan3_test",
   "language": "python",
   "name": "python3"
  },
  "language_info": {
   "codemirror_mode": {
    "name": "ipython",
    "version": 3
   },
   "file_extension": ".py",
   "mimetype": "text/x-python",
   "name": "python",
   "nbconvert_exporter": "python",
   "pygments_lexer": "ipython3",
   "version": "3.9.15"
  },
  "orig_nbformat": 4
 },
 "nbformat": 4,
 "nbformat_minor": 2
}
